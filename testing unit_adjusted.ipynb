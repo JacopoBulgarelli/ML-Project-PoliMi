{
 "cells": [
  {
   "cell_type": "code",
   "execution_count": 1,
   "id": "123eb4ad",
   "metadata": {},
   "outputs": [],
   "source": [
    "import pandas as pd\n",
    "import numpy as np\n",
    "import sklearn"
   ]
  },
  {
   "cell_type": "code",
   "execution_count": 2,
   "id": "0f326b7b",
   "metadata": {},
   "outputs": [],
   "source": [
    "pd.options.display.max_columns = None"
   ]
  },
  {
   "cell_type": "code",
   "execution_count": 3,
   "id": "deb6971e",
   "metadata": {},
   "outputs": [],
   "source": [
    "df = pd.read_csv('model.csv')"
   ]
  },
  {
   "cell_type": "code",
   "execution_count": 4,
   "id": "a7d22b30",
   "metadata": {},
   "outputs": [],
   "source": [
    "df.columns = [col.strip() for col in df.columns]"
   ]
  },
  {
   "cell_type": "code",
   "execution_count": 5,
   "id": "405f45ca",
   "metadata": {},
   "outputs": [],
   "source": [
    "dummy = pd.concat([pd.get_dummies(df.product_category).astype(int),pd.get_dummies(df.day).astype(int)],axis=1)"
   ]
  },
  {
   "cell_type": "code",
   "execution_count": 6,
   "id": "0049d8f0",
   "metadata": {},
   "outputs": [],
   "source": [
    "df = pd.concat([df,dummy],axis=1)"
   ]
  },
  {
   "cell_type": "code",
   "execution_count": 7,
   "id": "707ee894",
   "metadata": {},
   "outputs": [],
   "source": [
    "df = df[list(df.dtypes[df.dtypes!=object].index)]"
   ]
  },
  {
   "cell_type": "code",
   "execution_count": 8,
   "id": "7fad22e5",
   "metadata": {},
   "outputs": [],
   "source": [
    "y_svd = df.shares"
   ]
  },
  {
   "cell_type": "code",
   "execution_count": 9,
   "id": "7fa0e67f",
   "metadata": {},
   "outputs": [],
   "source": [
    "y = np.log(df.shares)"
   ]
  },
  {
   "cell_type": "code",
   "execution_count": 10,
   "id": "b9bd5762",
   "metadata": {},
   "outputs": [],
   "source": [
    "del df['shares']"
   ]
  },
  {
   "cell_type": "code",
   "execution_count": 11,
   "id": "90f1ab73",
   "metadata": {},
   "outputs": [],
   "source": [
    "from sklearn.pipeline import make_pipeline"
   ]
  },
  {
   "cell_type": "code",
   "execution_count": 12,
   "id": "6e171704",
   "metadata": {},
   "outputs": [],
   "source": [
    "X = df.copy()"
   ]
  },
  {
   "cell_type": "code",
   "execution_count": 13,
   "id": "f97fd81d",
   "metadata": {},
   "outputs": [
    {
     "data": {
      "text/plain": [
       "GridSearchCV(cv=5,\n",
       "             estimator=Pipeline(steps=[('standardscaler', StandardScaler()),\n",
       "                                       ('mlpregressor', MLPRegressor())]),\n",
       "             param_grid={'mlpregressor__alpha': array([10. ,  1. ,  0.1]),\n",
       "                         'mlpregressor__hidden_layer_sizes': [(20, 10, 5),\n",
       "                                                              (10, 5, 3)],\n",
       "                         'mlpregressor__max_iter': [10000],\n",
       "                         'mlpregressor__solver': ['sgd']})"
      ]
     },
     "execution_count": 13,
     "metadata": {},
     "output_type": "execute_result"
    }
   ],
   "source": [
    "from sklearn.model_selection import train_test_split\n",
    "from sklearn.preprocessing import StandardScaler\n",
    "from sklearn.pipeline import make_pipeline\n",
    "from sklearn.model_selection import GridSearchCV\n",
    "from sklearn.neural_network import MLPRegressor\n",
    "import numpy as np\n",
    "\n",
    "X_train, X_test, y_train, y_test = train_test_split(X, y,\n",
    "                                                    test_size=0.2,\n",
    "                                                    random_state=42)\n",
    "\n",
    "parameters = {\n",
    "    'mlpregressor__hidden_layer_sizes': [(20, 10, 5), (10, 5, 3)],\n",
    "    'mlpregressor__solver': ['sgd'],\n",
    "    'mlpregressor__alpha': 10.0 ** -np.arange(-1, 2),\n",
    "    'mlpregressor__max_iter': [10000]\n",
    "}\n",
    "\n",
    "pipe = make_pipeline(StandardScaler(), MLPRegressor())\n",
    "\n",
    "gs = GridSearchCV(estimator=pipe, param_grid=parameters, cv=5, verbose=0)\n",
    "gs.fit(X_train, y_train)\n"
   ]
  },
  {
   "cell_type": "code",
   "execution_count": 14,
   "id": "bce6ca0d-4ac0-44cc-bcb5-47f4b9b218bf",
   "metadata": {},
   "outputs": [
    {
     "name": "stdout",
     "output_type": "stream",
     "text": [
      "Mean Squared Error: 0.7365443164458033\n"
     ]
    }
   ],
   "source": [
    "from sklearn.model_selection import train_test_split\n",
    "from sklearn.linear_model import LinearRegression\n",
    "from sklearn.metrics import mean_squared_error\n",
    "\n",
    "# Create a linear regression model\n",
    "model = LinearRegression()\n",
    "\n",
    "# Train the model\n",
    "model.fit(X_train, y_train)\n",
    "\n",
    "# Make predictions on the testing data\n",
    "y_pred = model.predict(X_test)\n",
    "\n",
    "# Evaluate the model\n",
    "mse = mean_squared_error(y_test, y_pred)\n",
    "print(\"Mean Squared Error:\", mse)\n"
   ]
  },
  {
   "cell_type": "code",
   "execution_count": 15,
   "id": "cda75e62-7036-411d-acaa-8f0b40862314",
   "metadata": {},
   "outputs": [
    {
     "name": "stdout",
     "output_type": "stream",
     "text": [
      "Mean Squared Error: 0.7084393377551345\n"
     ]
    }
   ],
   "source": [
    "from sklearn.model_selection import train_test_split\n",
    "from sklearn.ensemble import RandomForestRegressor\n",
    "from sklearn.metrics import mean_squared_error\n",
    "\n",
    "# Create a Random Forest regression model\n",
    "model = RandomForestRegressor(n_estimators=100, random_state=42)\n",
    "\n",
    "# Train the model\n",
    "model.fit(X_train, y_train)\n",
    "\n",
    "# Make predictions on the testing data\n",
    "y_pred = model.predict(X_test)\n",
    "\n",
    "# Evaluate the model\n",
    "mse = mean_squared_error(y_test, y_pred)\n",
    "print(\"Mean Squared Error:\", mse)\n"
   ]
  },
  {
   "cell_type": "code",
   "execution_count": 16,
   "id": "ffe2e676-3658-443c-9d32-cdbf1c7df8c8",
   "metadata": {},
   "outputs": [
    {
     "name": "stdout",
     "output_type": "stream",
     "text": [
      "Ridge Regression Mean Squared Error: 0.7365391001668258\n"
     ]
    }
   ],
   "source": [
    "from sklearn.linear_model import Ridge\n",
    "\n",
    "# Create a Ridge regression model\n",
    "ridge_model = Ridge(alpha=1.0)  # Adjust alpha as needed\n",
    "\n",
    "# Train the model\n",
    "ridge_model.fit(X_train, y_train)\n",
    "\n",
    "# Make predictions on the testing data\n",
    "y_pred_ridge = ridge_model.predict(X_test)\n",
    "\n",
    "# Evaluate the model\n",
    "mse_ridge = mean_squared_error(y_test, y_pred_ridge)\n",
    "print(\"Ridge Regression Mean Squared Error:\", mse_ridge)"
   ]
  },
  {
   "cell_type": "code",
   "execution_count": 17,
   "id": "ca80a99b-04fb-4b53-a397-23c53a2bf063",
   "metadata": {},
   "outputs": [
    {
     "name": "stdout",
     "output_type": "stream",
     "text": [
      "Lasso Regression Mean Squared Error: 0.7723263911221732\n"
     ]
    }
   ],
   "source": [
    "from sklearn.linear_model import Lasso\n",
    "\n",
    "# Create a Lasso regression model\n",
    "lasso_model = Lasso(alpha=1.0)  # Adjust alpha as needed\n",
    "\n",
    "# Train the model\n",
    "lasso_model.fit(X_train, y_train)\n",
    "\n",
    "# Make predictions on the testing data\n",
    "y_pred_lasso = lasso_model.predict(X_test)\n",
    "\n",
    "# Evaluate the model\n",
    "mse_lasso = mean_squared_error(y_test, y_pred_lasso)\n",
    "print(\"Lasso Regression Mean Squared Error:\", mse_lasso)"
   ]
  },
  {
   "cell_type": "code",
   "execution_count": 18,
   "id": "873cda4e-0410-46b7-925a-541a6ba01d51",
   "metadata": {},
   "outputs": [
    {
     "name": "stdout",
     "output_type": "stream",
     "text": [
      "Kernel Ridge Regression Mean Squared Error: 56.5288957683235\n"
     ]
    }
   ],
   "source": [
    "from sklearn.kernel_ridge import KernelRidge\n",
    "\n",
    "# Create a Kernel Ridge regression model\n",
    "kernel_ridge_model = KernelRidge(alpha=1.0, kernel='rbf')  # Adjust alpha and kernel as needed\n",
    "\n",
    "# Train the model\n",
    "kernel_ridge_model.fit(X_train, y_train)\n",
    "\n",
    "# Make predictions on the testing data\n",
    "y_pred_kernel_ridge = kernel_ridge_model.predict(X_test)\n",
    "\n",
    "# Evaluate the model\n",
    "mse_kernel_ridge = mean_squared_error(y_test, y_pred_kernel_ridge)\n",
    "print(\"Kernel Ridge Regression Mean Squared Error:\", mse_kernel_ridge)"
   ]
  },
  {
   "cell_type": "code",
   "execution_count": 19,
   "id": "79db774f-42fb-4252-ba48-5592601b5b1c",
   "metadata": {},
   "outputs": [
    {
     "name": "stdout",
     "output_type": "stream",
     "text": [
      "Elastic Net Regression Mean Squared Error: 0.7716485029972295\n"
     ]
    }
   ],
   "source": [
    "from sklearn.linear_model import ElasticNet\n",
    "\n",
    "# Create an Elastic Net regression model\n",
    "elastic_net_model = ElasticNet(alpha=1.0, l1_ratio=0.5)  # Adjust alpha and l1_ratio as needed\n",
    "\n",
    "# Train the model\n",
    "elastic_net_model.fit(X_train, y_train)\n",
    "\n",
    "# Make predictions on the testing data\n",
    "y_pred_elastic_net = elastic_net_model.predict(X_test)\n",
    "\n",
    "# Evaluate the model\n",
    "mse_elastic_net = mean_squared_error(y_test, y_pred_elastic_net)\n",
    "print(\"Elastic Net Regression Mean Squared Error:\", mse_elastic_net)\n"
   ]
  },
  {
   "cell_type": "code",
   "execution_count": 20,
   "id": "a721ce4e-b24e-41e0-b238-6d49143bd259",
   "metadata": {},
   "outputs": [
    {
     "name": "stdout",
     "output_type": "stream",
     "text": [
      "Random Forest Regression Metrics:\n",
      "Mean Squared Error (MSE): 0.7038926139707751\n",
      "Root Mean Squared Error (RMSE): 0.8389830832446952\n",
      "Mean Absolute Error (MAE): 0.624156833031446\n",
      "R-squared (R^2): 0.16859075133113166\n"
     ]
    }
   ],
   "source": [
    "from sklearn.model_selection import train_test_split\n",
    "from sklearn.ensemble import RandomForestRegressor\n",
    "from sklearn.metrics import mean_squared_error, mean_absolute_error, r2_score\n",
    "import numpy as np\n",
    "\n",
    "# Create a Random Forest regression model\n",
    "rf_model = RandomForestRegressor(n_estimators=1000, random_state=42)\n",
    "\n",
    "# Train the model\n",
    "rf_model.fit(X_train, y_train)\n",
    "\n",
    "# Make predictions on the testing data\n",
    "y_pred_rf = rf_model.predict(X_test)\n",
    "\n",
    "# Calculate evaluation metrics\n",
    "mse_rf = mean_squared_error(y_test, y_pred_rf)\n",
    "rmse_rf = np.sqrt(mse_rf)\n",
    "mae_rf = mean_absolute_error(y_test, y_pred_rf)\n",
    "r2_rf = r2_score(y_test, y_pred_rf)\n",
    "\n",
    "# Print evaluation metrics\n",
    "print(\"Random Forest Regression Metrics:\")\n",
    "print(\"Mean Squared Error (MSE):\", mse_rf)\n",
    "print(\"Root Mean Squared Error (RMSE):\", rmse_rf)\n",
    "print(\"Mean Absolute Error (MAE):\", mae_rf)\n",
    "print(\"R-squared (R^2):\", r2_rf)\n"
   ]
  },
  {
   "cell_type": "code",
   "execution_count": null,
   "id": "e75b6236-69ef-49d1-be28-50ba3540a0d0",
   "metadata": {},
   "outputs": [],
   "source": [
    "from sklearn.datasets import make_regression\n",
    "from sklearn.model_selection import train_test_split\n",
    "from sklearn.ensemble import RandomForestRegressor\n",
    "from sklearn.metrics import mean_absolute_error, mean_squared_error, r2_score\n",
    "import numpy as np\n",
    "\n",
    "# Generate some synthetic data for regression\n",
    "X, y = make_regression(n_samples=1000, n_features=10, noise=0.1, random_state=42)\n",
    "\n",
    "# Split the data into training and testing sets\n",
    "X_train, X_test, y_train, y_test = train_test_split(X, y, test_size=0.2, random_state=42)\n",
    "\n",
    "# Initialize Random Forest Regressor\n",
    "rf_regressor = RandomForestRegressor(n_estimators=100, random_state=42)\n",
    "\n",
    "# Train the model\n",
    "rf_regressor.fit(X_train, y_train)\n",
    "\n",
    "# Make predictions\n",
    "y_pred = rf_regressor.predict(X_test)\n",
    "\n",
    "# Calculate evaluation metrics\n",
    "mae = mean_absolute_error(y_test, y_pred)\n",
    "mse = mean_squared_error(y_test, y_pred)\n",
    "rmse = np.sqrt(mse)\n",
    "r2 = r2_score(y_test, y_pred)\n",
    "\n",
    "# Print the evaluation metrics\n",
    "print(\"Mean Absolute Error:\", mae)\n",
    "print(\"Mean Squared Error:\", mse)\n",
    "print(\"Root Mean Squared Error:\", rmse)\n",
    "print(\"R-squared:\", r2)\n"
   ]
  },
  {
   "cell_type": "code",
   "execution_count": 21,
   "id": "3c63b973-22e2-4b7b-8404-1b7a08284473",
   "metadata": {},
   "outputs": [
    {
     "name": "stdout",
     "output_type": "stream",
     "text": [
      "Linear Regression - Mean Absolute Error: 0.6376556887972687\n",
      "Linear Regression - Mean Squared Error: 0.7365443164458033\n",
      "Linear Regression - Root Mean Squared Error: 0.8582216010132834\n",
      "Linear Regression - R-squared: 0.13002389200669262\n"
     ]
    }
   ],
   "source": [
    "from sklearn.linear_model import LinearRegression\n",
    "\n",
    "# Initialize Linear Regression model\n",
    "linear_regressor = LinearRegression()\n",
    "\n",
    "# Train the model\n",
    "linear_regressor.fit(X_train, y_train)\n",
    "\n",
    "# Make predictions\n",
    "y_pred_linear = linear_regressor.predict(X_test)\n",
    "\n",
    "# Calculate evaluation metrics for Linear Regression\n",
    "mae_linear = mean_absolute_error(y_test, y_pred_linear)\n",
    "mse_linear = mean_squared_error(y_test, y_pred_linear)\n",
    "rmse_linear = np.sqrt(mse_linear)\n",
    "r2_linear = r2_score(y_test, y_pred_linear)\n",
    "\n",
    "# Print the evaluation metrics for Linear Regression\n",
    "print(\"Linear Regression - Mean Absolute Error:\", mae_linear)\n",
    "print(\"Linear Regression - Mean Squared Error:\", mse_linear)\n",
    "print(\"Linear Regression - Root Mean Squared Error:\", rmse_linear)\n",
    "print(\"Linear Regression - R-squared:\", r2_linear)\n"
   ]
  },
  {
   "cell_type": "code",
   "execution_count": 22,
   "id": "e65eac4f-0621-4676-af15-71f83bb4a6c5",
   "metadata": {},
   "outputs": [
    {
     "name": "stdout",
     "output_type": "stream",
     "text": [
      "Ridge Regression - Mean Absolute Error: 0.6376753702141652\n",
      "Ridge Regression - Mean Squared Error: 0.7365391001668258\n",
      "Ridge Regression - Root Mean Squared Error: 0.8582185620031915\n",
      "Ridge Regression - R-squared: 0.13003005326268458\n"
     ]
    }
   ],
   "source": [
    "from sklearn.linear_model import Ridge\n",
    "\n",
    "# Initialize Ridge Regression model\n",
    "ridge_regressor = Ridge(alpha=1.0)  # You can adjust the alpha parameter for regularization strength\n",
    "\n",
    "# Train the model\n",
    "ridge_regressor.fit(X_train, y_train)\n",
    "\n",
    "# Make predictions\n",
    "y_pred_ridge = ridge_regressor.predict(X_test)\n",
    "\n",
    "# Calculate evaluation metrics for Ridge Regression\n",
    "mae_ridge = mean_absolute_error(y_test, y_pred_ridge)\n",
    "mse_ridge = mean_squared_error(y_test, y_pred_ridge)\n",
    "rmse_ridge = np.sqrt(mse_ridge)\n",
    "r2_ridge = r2_score(y_test, y_pred_ridge)\n",
    "\n",
    "# Print the evaluation metrics for Ridge Regression\n",
    "print(\"Ridge Regression - Mean Absolute Error:\", mae_ridge)\n",
    "print(\"Ridge Regression - Mean Squared Error:\", mse_ridge)\n",
    "print(\"Ridge Regression - Root Mean Squared Error:\", rmse_ridge)\n",
    "print(\"Ridge Regression - R-squared:\", r2_ridge)\n"
   ]
  },
  {
   "cell_type": "code",
   "execution_count": 23,
   "id": "95df32f8-0f48-48fc-9ae8-98795e4c6a45",
   "metadata": {},
   "outputs": [
    {
     "name": "stdout",
     "output_type": "stream",
     "text": [
      "Lasso Regression - Mean Absolute Error: 0.6612829549985716\n",
      "Lasso Regression - Mean Squared Error: 0.7723263911221732\n",
      "Lasso Regression - Root Mean Squared Error: 0.8788210233728897\n",
      "Lasso Regression - R-squared: 0.08775956470444701\n"
     ]
    }
   ],
   "source": [
    "from sklearn.linear_model import Lasso\n",
    "\n",
    "# Initialize Lasso Regression model\n",
    "lasso_regressor = Lasso(alpha=1.0)  # You can adjust the alpha parameter for regularization strength\n",
    "\n",
    "# Train the model\n",
    "lasso_regressor.fit(X_train, y_train)\n",
    "\n",
    "# Make predictions\n",
    "y_pred_lasso = lasso_regressor.predict(X_test)\n",
    "\n",
    "# Calculate evaluation metrics for Lasso Regression\n",
    "mae_lasso = mean_absolute_error(y_test, y_pred_lasso)\n",
    "mse_lasso = mean_squared_error(y_test, y_pred_lasso)\n",
    "rmse_lasso = np.sqrt(mse_lasso)\n",
    "r2_lasso = r2_score(y_test, y_pred_lasso)\n",
    "\n",
    "# Print the evaluation metrics for Lasso Regression\n",
    "print(\"Lasso Regression - Mean Absolute Error:\", mae_lasso)\n",
    "print(\"Lasso Regression - Mean Squared Error:\", mse_lasso)\n",
    "print(\"Lasso Regression - Root Mean Squared Error:\", rmse_lasso)\n",
    "print(\"Lasso Regression - R-squared:\", r2_lasso)\n"
   ]
  },
  {
   "cell_type": "code",
   "execution_count": 24,
   "id": "3a6f7f56-c931-4100-8a9c-6ac243e62fe4",
   "metadata": {},
   "outputs": [
    {
     "name": "stdout",
     "output_type": "stream",
     "text": [
      "Kernel Ridge Regression - Mean Absolute Error: 7.46205633617069\n",
      "Kernel Ridge Regression - Mean Squared Error: 56.5288957683235\n",
      "Kernel Ridge Regression - Root Mean Squared Error: 7.518570061409516\n",
      "Kernel Ridge Regression - R-squared: -65.76962625548155\n"
     ]
    }
   ],
   "source": [
    "from sklearn.kernel_ridge import KernelRidge\n",
    "\n",
    "# Initialize Kernel Ridge Regression model\n",
    "kernel_ridge_regressor = KernelRidge(alpha=1.0, kernel='rbf')  # You can adjust the alpha parameter for regularization strength and choose different kernels\n",
    "\n",
    "# Train the model\n",
    "kernel_ridge_regressor.fit(X_train, y_train)\n",
    "\n",
    "# Make predictions\n",
    "y_pred_kernel_ridge = kernel_ridge_regressor.predict(X_test)\n",
    "\n",
    "# Calculate evaluation metrics for Kernel Ridge Regression\n",
    "mae_kernel_ridge = mean_absolute_error(y_test, y_pred_kernel_ridge)\n",
    "mse_kernel_ridge = mean_squared_error(y_test, y_pred_kernel_ridge)\n",
    "rmse_kernel_ridge = np.sqrt(mse_kernel_ridge)\n",
    "r2_kernel_ridge = r2_score(y_test, y_pred_kernel_ridge)\n",
    "\n",
    "# Print the evaluation metrics for Kernel Ridge Regression\n",
    "print(\"Kernel Ridge Regression - Mean Absolute Error:\", mae_kernel_ridge)\n",
    "print(\"Kernel Ridge Regression - Mean Squared Error:\", mse_kernel_ridge)\n",
    "print(\"Kernel Ridge Regression - Root Mean Squared Error:\", rmse_kernel_ridge)\n",
    "print(\"Kernel Ridge Regression - R-squared:\", r2_kernel_ridge)\n"
   ]
  },
  {
   "cell_type": "code",
   "execution_count": 25,
   "id": "6bd69f96-1150-4e69-9244-676e826759ca",
   "metadata": {},
   "outputs": [
    {
     "name": "stdout",
     "output_type": "stream",
     "text": [
      "Elastic Net Regression - Mean Absolute Error: 0.6612359838400483\n",
      "Elastic Net Regression - Mean Squared Error: 0.7716485029972295\n",
      "Elastic Net Regression - Root Mean Squared Error: 0.8784352582844279\n",
      "Elastic Net Regression - R-squared: 0.08856025851122185\n"
     ]
    }
   ],
   "source": [
    "from sklearn.linear_model import ElasticNet\n",
    "\n",
    "# Initialize Elastic Net Regression model\n",
    "elastic_net_regressor = ElasticNet(alpha=1.0, l1_ratio=0.5)  # You can adjust the alpha parameter for regularization strength and l1_ratio for the mix of penalties\n",
    "\n",
    "# Train the model\n",
    "elastic_net_regressor.fit(X_train, y_train)\n",
    "\n",
    "# Make predictions\n",
    "y_pred_elastic_net = elastic_net_regressor.predict(X_test)\n",
    "\n",
    "# Calculate evaluation metrics for Elastic Net Regression\n",
    "mae_elastic_net = mean_absolute_error(y_test, y_pred_elastic_net)\n",
    "mse_elastic_net = mean_squared_error(y_test, y_pred_elastic_net)\n",
    "rmse_elastic_net = np.sqrt(mse_elastic_net)\n",
    "r2_elastic_net = r2_score(y_test, y_pred_elastic_net)\n",
    "\n",
    "# Print the evaluation metrics for Elastic Net Regression\n",
    "print(\"Elastic Net Regression - Mean Absolute Error:\", mae_elastic_net)\n",
    "print(\"Elastic Net Regression - Mean Squared Error:\", mse_elastic_net)\n",
    "print(\"Elastic Net Regression - Root Mean Squared Error:\", rmse_elastic_net)\n",
    "print(\"Elastic Net Regression - R-squared:\", r2_elastic_net)\n"
   ]
  },
  {
   "cell_type": "code",
   "execution_count": 26,
   "id": "6cb08c83-c3c8-46fe-b224-ea23df6fa2ea",
   "metadata": {},
   "outputs": [
    {
     "data": {
      "image/png": "[encoded data removed]",
      "text/plain": [
       "<Figure size 640x480 with 1 Axes>"
      ]
     },
     "metadata": {},
     "output_type": "display_data"
    }
   ],
   "source": [
    "# plot with actual vs predicted values obtained from linear regression\n",
    "import matplotlib.pyplot as plt\n",
    "\n",
    "# Create a scatter plot of actual vs predicted values\n",
    "plt.scatter(y_test, y_pred_linear)\n",
    "plt.xlabel(\"Actual Values\")\n",
    "plt.ylabel(\"Predicted Values\")\n",
    "plt.title(\"Actual vs Predicted Values (Linear Regression)\")\n",
    "plt.show()\n"
   ]
  },
  {
   "cell_type": "code",
   "execution_count": 27,
   "id": "9f2e81d5-9e94-4894-a5eb-d986ef599438",
   "metadata": {},
   "outputs": [
    {
     "name": "stdout",
     "output_type": "stream",
     "text": [
      "Cross-Validation R-squared scores: [0.14485827 0.12094545 0.13669471 0.12301129 0.13673816]\n",
      "Mean R-squared: 0.13244957788959538\n",
      "Standard deviation of R-squared: 0.009075406150424313\n"
     ]
    }
   ],
   "source": [
    "from sklearn.model_selection import cross_val_score\n",
    "\n",
    "# Initialize Linear Regression model\n",
    "linear_regressor = LinearRegression()\n",
    "\n",
    "# Perform cross-validation\n",
    "cv_scores = cross_val_score(linear_regressor, X_train, y_train, cv=5, scoring='r2')\n",
    "\n",
    "# Print cross-validation scores\n",
    "print(\"Cross-Validation R-squared scores:\", cv_scores)\n",
    "print(\"Mean R-squared:\", np.mean(cv_scores))\n",
    "print(\"Standard deviation of R-squared:\", np.std(cv_scores))\n"
   ]
  },
  {
   "cell_type": "code",
   "execution_count": 28,
   "id": "f608cdad-ca6e-4f24-b9c4-d6c763264b2c",
   "metadata": {},
   "outputs": [
    {
     "name": "stdout",
     "output_type": "stream",
     "text": [
      "Ridge Regression - Cross-Validation R-squared scores: [0.14485157 0.12137886 0.13653981 0.12283199 0.13703538]\n",
      "Ridge Regression - Mean R-squared: 0.1325275213767389\n",
      "Ridge Regression - Standard deviation of R-squared: 0.009017731992717236\n"
     ]
    }
   ],
   "source": [
    "from sklearn.linear_model import Ridge\n",
    "from sklearn.model_selection import cross_val_score\n",
    "\n",
    "# Initialize Ridge Regression model\n",
    "ridge_regressor = Ridge(alpha=1.0)  # You can adjust the alpha parameter for regularization strength\n",
    "\n",
    "# Perform cross-validation\n",
    "cv_scores_ridge = cross_val_score(ridge_regressor, X_train, y_train, cv=5, scoring='r2')\n",
    "\n",
    "# Print cross-validation scores\n",
    "print(\"Ridge Regression - Cross-Validation R-squared scores:\", cv_scores_ridge)\n",
    "print(\"Ridge Regression - Mean R-squared:\", np.mean(cv_scores_ridge))\n",
    "print(\"Ridge Regression - Standard deviation of R-squared:\", np.std(cv_scores_ridge))\n"
   ]
  },
  {
   "cell_type": "code",
   "execution_count": 29,
   "id": "a5b5db8e-353c-4ce8-8913-8301d8f62e35",
   "metadata": {},
   "outputs": [
    {
     "name": "stdout",
     "output_type": "stream",
     "text": [
      "Lasso Regression - Cross-Validation R-squared scores: [0.09607508 0.09484996 0.092107   0.08410064 0.09528816]\n",
      "Lasso Regression - Mean R-squared: 0.09248416632446377\n",
      "Lasso Regression - Standard deviation of R-squared: 0.0043995406181326704\n"
     ]
    }
   ],
   "source": [
    "from sklearn.linear_model import Lasso\n",
    "from sklearn.model_selection import cross_val_score\n",
    "\n",
    "# Initialize Lasso Regression model\n",
    "lasso_regressor = Lasso(alpha=1.0)  # You can adjust the alpha parameter for regularization strength\n",
    "\n",
    "# Perform cross-validation\n",
    "cv_scores_lasso = cross_val_score(lasso_regressor, X_train, y_train, cv=5, scoring='r2')\n",
    "\n",
    "# Print cross-validation scores\n",
    "print(\"Lasso Regression - Cross-Validation R-squared scores:\", cv_scores_lasso)\n",
    "print(\"Lasso Regression - Mean R-squared:\", np.mean(cv_scores_lasso))\n",
    "print(\"Lasso Regression - Standard deviation of R-squared:\", np.std(cv_scores_lasso))\n"
   ]
  },
  {
   "cell_type": "code",
   "execution_count": null,
   "id": "d93d74d3-6462-4bb3-8476-6d150428b0ae",
   "metadata": {},
   "outputs": [],
   "source": []
  }
 ],
 "metadata": {
  "kernelspec": {
   "display_name": "Python 3 (ipykernel)",
   "language": "python",
   "name": "python3"
  },
  "language_info": {
   "codemirror_mode": {
    "name": "ipython",
    "version": 3
   },
   "file_extension": ".py",
   "mimetype": "text/x-python",
   "name": "python",
   "nbconvert_exporter": "python",
   "pygments_lexer": "ipython3",
   "version": "3.9.13"
  }
 },
 "nbformat": 4,
 "nbformat_minor": 5
}
