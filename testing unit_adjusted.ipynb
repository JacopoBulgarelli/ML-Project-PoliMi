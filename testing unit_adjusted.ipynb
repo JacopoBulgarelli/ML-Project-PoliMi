{
 "cells": [
  {
   "cell_type": "code",
   "execution_count": 1,
   "id": "123eb4ad",
   "metadata": {},
   "outputs": [],
   "source": [
    "import pandas as pd\n",
    "import numpy as np\n",
    "import sklearn"
   ]
  },
  {
   "cell_type": "code",
   "execution_count": 2,
   "id": "0f326b7b",
   "metadata": {},
   "outputs": [],
   "source": [
    "pd.options.display.max_columns = None"
   ]
  },
  {
   "cell_type": "code",
   "execution_count": 3,
   "id": "deb6971e",
   "metadata": {},
   "outputs": [],
   "source": [
    "df = pd.read_csv('model.csv')"
   ]
  },
  {
   "cell_type": "code",
   "execution_count": 4,
   "id": "a7d22b30",
   "metadata": {},
   "outputs": [],
   "source": [
    "df.columns = [col.strip() for col in df.columns]"
   ]
  },
  {
   "cell_type": "code",
   "execution_count": 5,
   "id": "405f45ca",
   "metadata": {},
   "outputs": [],
   "source": [
    "dummy = pd.concat([pd.get_dummies(df.product_category).astype(int),pd.get_dummies(df.day).astype(int)],axis=1)"
   ]
  },
  {
   "cell_type": "code",
   "execution_count": 6,
   "id": "0049d8f0",
   "metadata": {},
   "outputs": [],
   "source": [
    "df = pd.concat([df,dummy],axis=1)"
   ]
  },
  {
   "cell_type": "code",
   "execution_count": 7,
   "id": "707ee894",
   "metadata": {},
   "outputs": [],
   "source": [
    "df = df[list(df.dtypes[df.dtypes!=object].index)]"
   ]
  },
  {
   "cell_type": "code",
   "execution_count": 8,
   "id": "7fad22e5",
   "metadata": {},
   "outputs": [],
   "source": [
    "y_svd = df.shares"
   ]
  },
  {
   "cell_type": "code",
   "execution_count": 9,
   "id": "7fa0e67f",
   "metadata": {},
   "outputs": [],
   "source": [
    "y = np.log(df.shares)"
   ]
  },
  {
   "cell_type": "code",
   "execution_count": 10,
   "id": "b9bd5762",
   "metadata": {},
   "outputs": [],
   "source": [
    "del df['shares']"
   ]
  },
  {
   "cell_type": "code",
   "execution_count": 11,
   "id": "90f1ab73",
   "metadata": {},
   "outputs": [],
   "source": [
    "from sklearn.pipeline import make_pipeline"
   ]
  },
  {
   "cell_type": "code",
   "execution_count": 12,
   "id": "6e171704",
   "metadata": {},
   "outputs": [],
   "source": [
    "X = df.copy()"
   ]
  },
  {
   "cell_type": "code",
   "execution_count": 30,
   "id": "f97fd81d",
   "metadata": {},
   "outputs": [
    {
     "data": {
      "text/plain": [
       "GridSearchCV(cv=5,\n",
       "             estimator=Pipeline(steps=[('standardscaler', StandardScaler()),\n",
       "                                       ('mlpregressor', MLPRegressor())]),\n",
       "             param_grid={'mlpregressor__alpha': array([10. ,  1. ,  0.1]),\n",
       "                         'mlpregressor__hidden_layer_sizes': [(20, 10, 5),\n",
       "                                                              (10, 5, 3)],\n",
       "                         'mlpregressor__max_iter': [10000],\n",
       "                         'mlpregressor__solver': ['sgd']})"
      ]
     },
     "execution_count": 30,
     "metadata": {},
     "output_type": "execute_result"
    }
   ],
   "source": [
    "from sklearn.model_selection import train_test_split\n",
    "from sklearn.preprocessing import StandardScaler\n",
    "from sklearn.pipeline import make_pipeline\n",
    "from sklearn.model_selection import GridSearchCV\n",
    "from sklearn.neural_network import MLPRegressor\n",
    "import numpy as np\n",
    "\n",
    "X_train, X_test, y_train, y_test = train_test_split(X, y,\n",
    "                                                    test_size=0.2,\n",
    "                                                    random_state=42)\n",
    "\n",
    "parameters = {\n",
    "    'mlpregressor__hidden_layer_sizes': [(20, 10, 5), (10, 5, 3)],\n",
    "    'mlpregressor__solver': ['sgd'],\n",
    "    'mlpregressor__alpha': 10.0 ** -np.arange(-1, 2),\n",
    "    'mlpregressor__max_iter': [10000]\n",
    "}\n",
    "\n",
    "pipe = make_pipeline(StandardScaler(), MLPRegressor())\n",
    "\n",
    "gs = GridSearchCV(estimator=pipe, param_grid=parameters, cv=5, verbose=0)\n",
    "gs.fit(X_train, y_train)\n"
   ]
  },
  {
   "cell_type": "code",
   "execution_count": null,
   "id": "bce6ca0d-4ac0-44cc-bcb5-47f4b9b218bf",
   "metadata": {},
   "outputs": [],
   "source": []
  }
 ],
 "metadata": {
  "kernelspec": {
   "display_name": "Python 3 (ipykernel)",
   "language": "python",
   "name": "python3"
  },
  "language_info": {
   "codemirror_mode": {
    "name": "ipython",
    "version": 3
   },
   "file_extension": ".py",
   "mimetype": "text/x-python",
   "name": "python",
   "nbconvert_exporter": "python",
   "pygments_lexer": "ipython3",
   "version": "3.9.13"
  }
 },
 "nbformat": 4,
 "nbformat_minor": 5
}
