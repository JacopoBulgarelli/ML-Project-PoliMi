{
 "cells": [
  {
   "cell_type": "code",
   "execution_count": 1,
   "id": "123eb4ad",
   "metadata": {},
   "outputs": [],
   "source": [
    "import pandas as pd\n",
    "import numpy as np\n",
    "import sklearn"
   ]
  },
  {
   "cell_type": "code",
   "execution_count": 2,
   "id": "0f326b7b",
   "metadata": {},
   "outputs": [],
   "source": [
    "pd.options.display.max_columns = None"
   ]
  },
  {
   "cell_type": "code",
   "execution_count": 3,
   "id": "deb6971e",
   "metadata": {},
   "outputs": [],
   "source": [
    "df = pd.read_csv('model.csv')"
   ]
  },
  {
   "cell_type": "code",
   "execution_count": 4,
   "id": "a7d22b30",
   "metadata": {},
   "outputs": [],
   "source": [
    "df.columns = [col.strip() for col in df.columns]"
   ]
  },
  {
   "cell_type": "code",
   "execution_count": 5,
   "id": "405f45ca",
   "metadata": {},
   "outputs": [],
   "source": [
    "dummy = pd.concat([pd.get_dummies(df.product_category).astype(int),pd.get_dummies(df.day).astype(int)],axis=1)"
   ]
  },
  {
   "cell_type": "code",
   "execution_count": 6,
   "id": "0049d8f0",
   "metadata": {},
   "outputs": [],
   "source": [
    "df = pd.concat([df,dummy],axis=1)"
   ]
  },
  {
   "cell_type": "code",
   "execution_count": 7,
   "id": "707ee894",
   "metadata": {},
   "outputs": [],
   "source": [
    "df = df[list(df.dtypes[df.dtypes!=object].index)]"
   ]
  },
  {
   "cell_type": "code",
   "execution_count": 8,
   "id": "7fad22e5",
   "metadata": {},
   "outputs": [],
   "source": [
    "y_svd = df.shares"
   ]
  },
  {
   "cell_type": "code",
   "execution_count": 9,
   "id": "7fa0e67f",
   "metadata": {},
   "outputs": [],
   "source": [
    "y = np.log(df.shares)"
   ]
  },
  {
   "cell_type": "code",
   "execution_count": 10,
   "id": "b9bd5762",
   "metadata": {},
   "outputs": [],
   "source": [
    "del df['shares']"
   ]
  },
  {
   "cell_type": "code",
   "execution_count": 11,
   "id": "90f1ab73",
   "metadata": {},
   "outputs": [],
   "source": [
    "from sklearn.pipeline import make_pipeline"
   ]
  },
  {
   "cell_type": "code",
   "execution_count": 12,
   "id": "6e171704",
   "metadata": {},
   "outputs": [],
   "source": [
    "X = df.copy()"
   ]
  },
  {
   "cell_type": "code",
   "execution_count": 13,
   "id": "f97fd81d",
   "metadata": {},
   "outputs": [
    {
     "data": {
      "text/plain": [
       "GridSearchCV(cv=5,\n",
       "             estimator=Pipeline(steps=[('standardscaler', StandardScaler()),\n",
       "                                       ('mlpregressor', MLPRegressor())]),\n",
       "             param_grid={'mlpregressor__alpha': array([10. ,  1. ,  0.1]),\n",
       "                         'mlpregressor__hidden_layer_sizes': [(20, 10, 5),\n",
       "                                                              (10, 5, 3)],\n",
       "                         'mlpregressor__max_iter': [10000],\n",
       "                         'mlpregressor__solver': ['sgd']})"
      ]
     },
     "execution_count": 13,
     "metadata": {},
     "output_type": "execute_result"
    }
   ],
   "source": [
    "from sklearn.model_selection import train_test_split\n",
    "from sklearn.preprocessing import StandardScaler\n",
    "from sklearn.pipeline import make_pipeline\n",
    "from sklearn.model_selection import GridSearchCV\n",
    "from sklearn.neural_network import MLPRegressor\n",
    "import numpy as np\n",
    "\n",
    "X_train, X_test, y_train, y_test = train_test_split(X, y,\n",
    "                                                    test_size=0.2,\n",
    "                                                    random_state=42)\n",
    "\n",
    "parameters = {\n",
    "    'mlpregressor__hidden_layer_sizes': [(20, 10, 5), (10, 5, 3)],\n",
    "    'mlpregressor__solver': ['sgd'],\n",
    "    'mlpregressor__alpha': 10.0 ** -np.arange(-1, 2),\n",
    "    'mlpregressor__max_iter': [10000]\n",
    "}\n",
    "\n",
    "pipe = make_pipeline(StandardScaler(), MLPRegressor())\n",
    "\n",
    "gs = GridSearchCV(estimator=pipe, param_grid=parameters, cv=5, verbose=0)\n",
    "gs.fit(X_train, y_train)\n"
   ]
  },
  {
   "cell_type": "code",
   "execution_count": 14,
   "id": "bce6ca0d-4ac0-44cc-bcb5-47f4b9b218bf",
   "metadata": {},
   "outputs": [
    {
     "name": "stdout",
     "output_type": "stream",
     "text": [
      "Mean Squared Error: 0.7365443164458033\n"
     ]
    }
   ],
   "source": [
    "from sklearn.model_selection import train_test_split\n",
    "from sklearn.linear_model import LinearRegression\n",
    "from sklearn.metrics import mean_squared_error\n",
    "\n",
    "# Create a linear regression model\n",
    "model = LinearRegression()\n",
    "\n",
    "# Train the model\n",
    "model.fit(X_train, y_train)\n",
    "\n",
    "# Make predictions on the testing data\n",
    "y_pred = model.predict(X_test)\n",
    "\n",
    "# Evaluate the model\n",
    "mse = mean_squared_error(y_test, y_pred)\n",
    "print(\"Mean Squared Error:\", mse)\n"
   ]
  },
  {
   "cell_type": "code",
   "execution_count": 15,
   "id": "cda75e62-7036-411d-acaa-8f0b40862314",
   "metadata": {},
   "outputs": [
    {
     "name": "stdout",
     "output_type": "stream",
     "text": [
      "Mean Squared Error: 0.7084393377551345\n"
     ]
    }
   ],
   "source": [
    "from sklearn.model_selection import train_test_split\n",
    "from sklearn.ensemble import RandomForestRegressor\n",
    "from sklearn.metrics import mean_squared_error\n",
    "\n",
    "# Create a Random Forest regression model\n",
    "model = RandomForestRegressor(n_estimators=100, random_state=42)\n",
    "\n",
    "# Train the model\n",
    "model.fit(X_train, y_train)\n",
    "\n",
    "# Make predictions on the testing data\n",
    "y_pred = model.predict(X_test)\n",
    "\n",
    "# Evaluate the model\n",
    "mse = mean_squared_error(y_test, y_pred)\n",
    "print(\"Mean Squared Error:\", mse)\n"
   ]
  },
  {
   "cell_type": "code",
   "execution_count": 16,
   "id": "ffe2e676-3658-443c-9d32-cdbf1c7df8c8",
   "metadata": {},
   "outputs": [
    {
     "name": "stdout",
     "output_type": "stream",
     "text": [
      "Ridge Regression Mean Squared Error: 0.7365391001668258\n"
     ]
    }
   ],
   "source": [
    "from sklearn.linear_model import Ridge\n",
    "\n",
    "# Create a Ridge regression model\n",
    "ridge_model = Ridge(alpha=1.0)  # Adjust alpha as needed\n",
    "\n",
    "# Train the model\n",
    "ridge_model.fit(X_train, y_train)\n",
    "\n",
    "# Make predictions on the testing data\n",
    "y_pred_ridge = ridge_model.predict(X_test)\n",
    "\n",
    "# Evaluate the model\n",
    "mse_ridge = mean_squared_error(y_test, y_pred_ridge)\n",
    "print(\"Ridge Regression Mean Squared Error:\", mse_ridge)"
   ]
  },
  {
   "cell_type": "code",
   "execution_count": 17,
   "id": "ca80a99b-04fb-4b53-a397-23c53a2bf063",
   "metadata": {},
   "outputs": [
    {
     "name": "stdout",
     "output_type": "stream",
     "text": [
      "Lasso Regression Mean Squared Error: 0.7723263911221732\n"
     ]
    }
   ],
   "source": [
    "from sklearn.linear_model import Lasso\n",
    "\n",
    "# Create a Lasso regression model\n",
    "lasso_model = Lasso(alpha=1.0)  # Adjust alpha as needed\n",
    "\n",
    "# Train the model\n",
    "lasso_model.fit(X_train, y_train)\n",
    "\n",
    "# Make predictions on the testing data\n",
    "y_pred_lasso = lasso_model.predict(X_test)\n",
    "\n",
    "# Evaluate the model\n",
    "mse_lasso = mean_squared_error(y_test, y_pred_lasso)\n",
    "print(\"Lasso Regression Mean Squared Error:\", mse_lasso)"
   ]
  },
  {
   "cell_type": "code",
   "execution_count": 18,
   "id": "873cda4e-0410-46b7-925a-541a6ba01d51",
   "metadata": {},
   "outputs": [
    {
     "name": "stdout",
     "output_type": "stream",
     "text": [
      "Kernel Ridge Regression Mean Squared Error: 56.5288957683235\n"
     ]
    }
   ],
   "source": [
    "from sklearn.kernel_ridge import KernelRidge\n",
    "\n",
    "# Create a Kernel Ridge regression model\n",
    "kernel_ridge_model = KernelRidge(alpha=1.0, kernel='rbf')  # Adjust alpha and kernel as needed\n",
    "\n",
    "# Train the model\n",
    "kernel_ridge_model.fit(X_train, y_train)\n",
    "\n",
    "# Make predictions on the testing data\n",
    "y_pred_kernel_ridge = kernel_ridge_model.predict(X_test)\n",
    "\n",
    "# Evaluate the model\n",
    "mse_kernel_ridge = mean_squared_error(y_test, y_pred_kernel_ridge)\n",
    "print(\"Kernel Ridge Regression Mean Squared Error:\", mse_kernel_ridge)"
   ]
  },
  {
   "cell_type": "code",
   "execution_count": 19,
   "id": "79db774f-42fb-4252-ba48-5592601b5b1c",
   "metadata": {},
   "outputs": [
    {
     "name": "stdout",
     "output_type": "stream",
     "text": [
      "Elastic Net Regression Mean Squared Error: 0.7716485029972295\n"
     ]
    }
   ],
   "source": [
    "from sklearn.linear_model import ElasticNet\n",
    "\n",
    "# Create an Elastic Net regression model\n",
    "elastic_net_model = ElasticNet(alpha=1.0, l1_ratio=0.5)  # Adjust alpha and l1_ratio as needed\n",
    "\n",
    "# Train the model\n",
    "elastic_net_model.fit(X_train, y_train)\n",
    "\n",
    "# Make predictions on the testing data\n",
    "y_pred_elastic_net = elastic_net_model.predict(X_test)\n",
    "\n",
    "# Evaluate the model\n",
    "mse_elastic_net = mean_squared_error(y_test, y_pred_elastic_net)\n",
    "print(\"Elastic Net Regression Mean Squared Error:\", mse_elastic_net)\n"
   ]
  },
  {
   "cell_type": "code",
   "execution_count": 20,
   "id": "a721ce4e-b24e-41e0-b238-6d49143bd259",
   "metadata": {},
   "outputs": [
    {
     "name": "stdout",
     "output_type": "stream",
     "text": [
      "Random Forest Regression Metrics:\n",
      "Mean Squared Error (MSE): 0.7084393377551345\n",
      "Root Mean Squared Error (RMSE): 0.8416883851848821\n",
      "Mean Absolute Error (MAE): 0.6261028200011138\n",
      "R-squared (R^2): 0.16322034662673457\n"
     ]
    }
   ],
   "source": [
    "from sklearn.model_selection import train_test_split\n",
    "from sklearn.ensemble import RandomForestRegressor\n",
    "from sklearn.metrics import mean_squared_error, mean_absolute_error, r2_score\n",
    "import numpy as np\n",
    "\n",
    "# Create a Random Forest regression model\n",
    "rf_model = RandomForestRegressor(n_estimators=100, random_state=42)\n",
    "\n",
    "# Train the model\n",
    "rf_model.fit(X_train, y_train)\n",
    "\n",
    "# Make predictions on the testing data\n",
    "y_pred_rf = rf_model.predict(X_test)\n",
    "\n",
    "# Calculate evaluation metrics\n",
    "mse_rf = mean_squared_error(y_test, y_pred_rf)\n",
    "rmse_rf = np.sqrt(mse_rf)\n",
    "mae_rf = mean_absolute_error(y_test, y_pred_rf)\n",
    "r2_rf = r2_score(y_test, y_pred_rf)\n",
    "\n",
    "# Print evaluation metrics\n",
    "print(\"Random Forest Regression Metrics:\")\n",
    "print(\"Mean Squared Error (MSE):\", mse_rf)\n",
    "print(\"Root Mean Squared Error (RMSE):\", rmse_rf)\n",
    "print(\"Mean Absolute Error (MAE):\", mae_rf)\n",
    "print(\"R-squared (R^2):\", r2_rf)\n"
   ]
  },
  {
   "cell_type": "code",
   "execution_count": 24,
   "id": "e75b6236-69ef-49d1-be28-50ba3540a0d0",
   "metadata": {},
   "outputs": [
    {
     "name": "stdout",
     "output_type": "stream",
     "text": [
      "Mean Absolute Error: 40.01786384037291\n",
      "Mean Squared Error: 2605.3780610599583\n",
      "Root Mean Squared Error: 51.04290412055292\n",
      "R-squared: 0.8455718006566116\n"
     ]
    }
   ],
   "source": [
    "from sklearn.datasets import make_regression\n",
    "from sklearn.model_selection import train_test_split\n",
    "from sklearn.ensemble import RandomForestRegressor\n",
    "from sklearn.metrics import mean_absolute_error, mean_squared_error, r2_score\n",
    "import numpy as np\n",
    "\n",
    "# Generate some synthetic data for regression\n",
    "X, y = make_regression(n_samples=1000, n_features=10, noise=0.1, random_state=42)\n",
    "\n",
    "# Split the data into training and testing sets\n",
    "X_train, X_test, y_train, y_test = train_test_split(X, y, test_size=0.2, random_state=42)\n",
    "\n",
    "# Initialize Random Forest Regressor\n",
    "rf_regressor = RandomForestRegressor(n_estimators=100, random_state=42)\n",
    "\n",
    "# Train the model\n",
    "rf_regressor.fit(X_train, y_train)\n",
    "\n",
    "# Make predictions\n",
    "y_pred = rf_regressor.predict(X_test)\n",
    "\n",
    "# Calculate evaluation metrics\n",
    "mae = mean_absolute_error(y_test, y_pred)\n",
    "mse = mean_squared_error(y_test, y_pred)\n",
    "rmse = np.sqrt(mse)\n",
    "r2 = r2_score(y_test, y_pred)\n",
    "\n",
    "# Print the evaluation metrics\n",
    "print(\"Mean Absolute Error:\", mae)\n",
    "print(\"Mean Squared Error:\", mse)\n",
    "print(\"Root Mean Squared Error:\", rmse)\n",
    "print(\"R-squared:\", r2)\n"
   ]
  },
  {
   "cell_type": "code",
   "execution_count": null,
   "id": "3c63b973-22e2-4b7b-8404-1b7a08284473",
   "metadata": {},
   "outputs": [],
   "source": []
  }
 ],
 "metadata": {
  "kernelspec": {
   "display_name": "Python 3 (ipykernel)",
   "language": "python",
   "name": "python3"
  },
  "language_info": {
   "codemirror_mode": {
    "name": "ipython",
    "version": 3
   },
   "file_extension": ".py",
   "mimetype": "text/x-python",
   "name": "python",
   "nbconvert_exporter": "python",
   "pygments_lexer": "ipython3",
   "version": "3.9.13"
  }
 },
 "nbformat": 4,
 "nbformat_minor": 5
}
