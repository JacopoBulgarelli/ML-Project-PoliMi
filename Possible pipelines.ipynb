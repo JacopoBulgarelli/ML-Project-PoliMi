{
 "cells": [
  {
   "attachments": {},
   "cell_type": "markdown",
   "metadata": {},
   "source": [
    "# Here there will be the description of the Model"
   ]
  },
  {
   "attachments": {},
   "cell_type": "markdown",
   "metadata": {},
   "source": [
    "### The one below is the Excel containing the information regarding the various parameters\n",
    "\n",
    "## ALL THIS INFORMATION SHOULD BE UNPACKED AND PRESENTED HERE IN A BETTER FORM"
   ]
  },
  {
   "cell_type": "code",
   "execution_count": null,
   "metadata": {},
   "outputs": [],
   "source": [
    "shinkansen_travel_experince_parameters = pd.read_excel('Data_Dictionary.xlsx')"
   ]
  },
  {
   "cell_type": "code",
   "execution_count": null,
   "metadata": {},
   "outputs": [
    {
     "data": {
      "text/html": [
       "<div>\n",
       "<style scoped>\n",
       "    .dataframe tbody tr th:only-of-type {\n",
       "        vertical-align: middle;\n",
       "    }\n",
       "\n",
       "    .dataframe tbody tr th {\n",
       "        vertical-align: top;\n",
       "    }\n",
       "\n",
       "    .dataframe thead th {\n",
       "        text-align: right;\n",
       "    }\n",
       "</style>\n",
       "<table border=\"1\" class=\"dataframe\">\n",
       "  <thead>\n",
       "    <tr style=\"text-align: right;\">\n",
       "      <th></th>\n",
       "      <th>Data Dictionary - Travel Data</th>\n",
       "      <th>Unnamed: 1</th>\n",
       "      <th>Unnamed: 2</th>\n",
       "    </tr>\n",
       "  </thead>\n",
       "  <tbody>\n",
       "    <tr>\n",
       "      <th>0</th>\n",
       "      <td>Column Name</td>\n",
       "      <td>Column Description</td>\n",
       "      <td>Column Value Examples</td>\n",
       "    </tr>\n",
       "    <tr>\n",
       "      <th>1</th>\n",
       "      <td>ID</td>\n",
       "      <td>The unique ID of the passenger</td>\n",
       "      <td>Continuous values like 98800001, 98800002, etc.</td>\n",
       "    </tr>\n",
       "    <tr>\n",
       "      <th>2</th>\n",
       "      <td>Gender</td>\n",
       "      <td>The gender of the passenger</td>\n",
       "      <td>Male\\nFemale</td>\n",
       "    </tr>\n",
       "  </tbody>\n",
       "</table>\n",
       "</div>"
      ],
      "text/plain": [
       "  Data Dictionary - Travel Data                      Unnamed: 1  \\\n",
       "0                   Column Name              Column Description   \n",
       "1                            ID  The unique ID of the passenger   \n",
       "2                        Gender     The gender of the passenger   \n",
       "\n",
       "                                        Unnamed: 2  \n",
       "0                            Column Value Examples  \n",
       "1  Continuous values like 98800001, 98800002, etc.  \n",
       "2                                     Male\\nFemale  "
      ]
     },
     "metadata": {},
     "output_type": "display_data"
    }
   ],
   "source": [
    "shinkansen_travel_experince_parameters.head(3)"
   ]
  },
  {
   "cell_type": "code",
   "execution_count": 113,
   "metadata": {},
   "outputs": [],
   "source": [
    "# Importing the basic libraries we will require for the project\n",
    "\n",
    "# Libraries to help with reading and manipulating data\n",
    "import pandas as pd\n",
    "import numpy as np\n",
    "\n",
    "# Libaries to help with data visualization\n",
    "import matplotlib.pyplot as plt\n",
    "import seaborn as sns\n",
    "sns.set()\n",
    "\n",
    "# Importing the Machine Learning models we require from Scikit-Learn\n",
    "from sklearn.linear_model import LogisticRegression\n",
    "from sklearn.svm import SVC\n",
    "from sklearn.tree import DecisionTreeClassifier\n",
    "from sklearn import tree\n",
    "from sklearn.ensemble import RandomForestClassifier\n",
    "from sklearn.ensemble import GradientBoostingClassifier\n",
    "\n",
    "\n",
    "# Importing the other functions we may require from Scikit-Learn\n",
    "from sklearn.model_selection import train_test_split, GridSearchCV\n",
    "from sklearn.preprocessing import MinMaxScaler, LabelEncoder, OneHotEncoder\n",
    "\n",
    "# To get diferent metric scores\n",
    "from sklearn.metrics import confusion_matrix,classification_report,roc_auc_score,plot_confusion_matrix,precision_recall_curve,roc_curve,make_scorer\n",
    "\n",
    "# Code to ignore warnings from function usage\n",
    "import warnings;\n",
    "import numpy as np\n",
    "warnings.filterwarnings('ignore')\n",
    "\n",
    "from sklearn.impute import SimpleImputer"
   ]
  },
  {
   "attachments": {},
   "cell_type": "markdown",
   "metadata": {},
   "source": [
    "Load and View the Data Set"
   ]
  },
  {
   "cell_type": "code",
   "execution_count": 21,
   "metadata": {},
   "outputs": [],
   "source": [
    "shin_exp = pd.read_csv('Surveydata_train.csv')"
   ]
  },
  {
   "cell_type": "code",
   "execution_count": 22,
   "metadata": {},
   "outputs": [
    {
     "data": {
      "text/html": [
       "<div>\n",
       "<style scoped>\n",
       "    .dataframe tbody tr th:only-of-type {\n",
       "        vertical-align: middle;\n",
       "    }\n",
       "\n",
       "    .dataframe tbody tr th {\n",
       "        vertical-align: top;\n",
       "    }\n",
       "\n",
       "    .dataframe thead th {\n",
       "        text-align: right;\n",
       "    }\n",
       "</style>\n",
       "<table border=\"1\" class=\"dataframe\">\n",
       "  <thead>\n",
       "    <tr style=\"text-align: right;\">\n",
       "      <th></th>\n",
       "      <th>ID</th>\n",
       "      <th>Overall_Experience</th>\n",
       "      <th>Seat_Comfort</th>\n",
       "      <th>Seat_Class</th>\n",
       "      <th>Arrival_Time_Convenient</th>\n",
       "      <th>Catering</th>\n",
       "      <th>Platform_Location</th>\n",
       "      <th>Onboard_Wifi_Service</th>\n",
       "      <th>Onboard_Entertainment</th>\n",
       "      <th>Online_Support</th>\n",
       "      <th>Ease_of_Online_Booking</th>\n",
       "      <th>Onboard_Service</th>\n",
       "      <th>Legroom</th>\n",
       "      <th>Baggage_Handling</th>\n",
       "      <th>CheckIn_Service</th>\n",
       "      <th>Cleanliness</th>\n",
       "      <th>Online_Boarding</th>\n",
       "    </tr>\n",
       "  </thead>\n",
       "  <tbody>\n",
       "    <tr>\n",
       "      <th>0</th>\n",
       "      <td>98800001</td>\n",
       "      <td>0</td>\n",
       "      <td>Needs Improvement</td>\n",
       "      <td>Green Car</td>\n",
       "      <td>Excellent</td>\n",
       "      <td>Excellent</td>\n",
       "      <td>Very Convenient</td>\n",
       "      <td>Good</td>\n",
       "      <td>Needs Improvement</td>\n",
       "      <td>Acceptable</td>\n",
       "      <td>Needs Improvement</td>\n",
       "      <td>Needs Improvement</td>\n",
       "      <td>Acceptable</td>\n",
       "      <td>Needs Improvement</td>\n",
       "      <td>Good</td>\n",
       "      <td>Needs Improvement</td>\n",
       "      <td>Poor</td>\n",
       "    </tr>\n",
       "    <tr>\n",
       "      <th>1</th>\n",
       "      <td>98800002</td>\n",
       "      <td>0</td>\n",
       "      <td>Poor</td>\n",
       "      <td>Ordinary</td>\n",
       "      <td>Excellent</td>\n",
       "      <td>Poor</td>\n",
       "      <td>Needs Improvement</td>\n",
       "      <td>Good</td>\n",
       "      <td>Poor</td>\n",
       "      <td>Good</td>\n",
       "      <td>Good</td>\n",
       "      <td>Excellent</td>\n",
       "      <td>Needs Improvement</td>\n",
       "      <td>Poor</td>\n",
       "      <td>Needs Improvement</td>\n",
       "      <td>Good</td>\n",
       "      <td>Good</td>\n",
       "    </tr>\n",
       "    <tr>\n",
       "      <th>2</th>\n",
       "      <td>98800003</td>\n",
       "      <td>1</td>\n",
       "      <td>Needs Improvement</td>\n",
       "      <td>Green Car</td>\n",
       "      <td>Needs Improvement</td>\n",
       "      <td>Needs Improvement</td>\n",
       "      <td>Needs Improvement</td>\n",
       "      <td>Needs Improvement</td>\n",
       "      <td>Good</td>\n",
       "      <td>Excellent</td>\n",
       "      <td>Excellent</td>\n",
       "      <td>Excellent</td>\n",
       "      <td>Excellent</td>\n",
       "      <td>Excellent</td>\n",
       "      <td>Good</td>\n",
       "      <td>Excellent</td>\n",
       "      <td>Excellent</td>\n",
       "    </tr>\n",
       "    <tr>\n",
       "      <th>3</th>\n",
       "      <td>98800004</td>\n",
       "      <td>0</td>\n",
       "      <td>Acceptable</td>\n",
       "      <td>Ordinary</td>\n",
       "      <td>Needs Improvement</td>\n",
       "      <td>NaN</td>\n",
       "      <td>Needs Improvement</td>\n",
       "      <td>Acceptable</td>\n",
       "      <td>Needs Improvement</td>\n",
       "      <td>Acceptable</td>\n",
       "      <td>Acceptable</td>\n",
       "      <td>Acceptable</td>\n",
       "      <td>Acceptable</td>\n",
       "      <td>Acceptable</td>\n",
       "      <td>Good</td>\n",
       "      <td>Acceptable</td>\n",
       "      <td>Acceptable</td>\n",
       "    </tr>\n",
       "    <tr>\n",
       "      <th>4</th>\n",
       "      <td>98800005</td>\n",
       "      <td>1</td>\n",
       "      <td>Acceptable</td>\n",
       "      <td>Ordinary</td>\n",
       "      <td>Acceptable</td>\n",
       "      <td>Acceptable</td>\n",
       "      <td>Manageable</td>\n",
       "      <td>Needs Improvement</td>\n",
       "      <td>Good</td>\n",
       "      <td>Excellent</td>\n",
       "      <td>Good</td>\n",
       "      <td>Good</td>\n",
       "      <td>Good</td>\n",
       "      <td>Good</td>\n",
       "      <td>Good</td>\n",
       "      <td>Good</td>\n",
       "      <td>Good</td>\n",
       "    </tr>\n",
       "  </tbody>\n",
       "</table>\n",
       "</div>"
      ],
      "text/plain": [
       "         ID  Overall_Experience       Seat_Comfort Seat_Class  \\\n",
       "0  98800001                   0  Needs Improvement  Green Car   \n",
       "1  98800002                   0               Poor   Ordinary   \n",
       "2  98800003                   1  Needs Improvement  Green Car   \n",
       "3  98800004                   0         Acceptable   Ordinary   \n",
       "4  98800005                   1         Acceptable   Ordinary   \n",
       "\n",
       "  Arrival_Time_Convenient           Catering  Platform_Location  \\\n",
       "0               Excellent          Excellent    Very Convenient   \n",
       "1               Excellent               Poor  Needs Improvement   \n",
       "2       Needs Improvement  Needs Improvement  Needs Improvement   \n",
       "3       Needs Improvement                NaN  Needs Improvement   \n",
       "4              Acceptable         Acceptable         Manageable   \n",
       "\n",
       "  Onboard_Wifi_Service Onboard_Entertainment Online_Support  \\\n",
       "0                 Good     Needs Improvement     Acceptable   \n",
       "1                 Good                  Poor           Good   \n",
       "2    Needs Improvement                  Good      Excellent   \n",
       "3           Acceptable     Needs Improvement     Acceptable   \n",
       "4    Needs Improvement                  Good      Excellent   \n",
       "\n",
       "  Ease_of_Online_Booking    Onboard_Service            Legroom  \\\n",
       "0      Needs Improvement  Needs Improvement         Acceptable   \n",
       "1                   Good          Excellent  Needs Improvement   \n",
       "2              Excellent          Excellent          Excellent   \n",
       "3             Acceptable         Acceptable         Acceptable   \n",
       "4                   Good               Good               Good   \n",
       "\n",
       "    Baggage_Handling    CheckIn_Service        Cleanliness Online_Boarding  \n",
       "0  Needs Improvement               Good  Needs Improvement            Poor  \n",
       "1               Poor  Needs Improvement               Good            Good  \n",
       "2          Excellent               Good          Excellent       Excellent  \n",
       "3         Acceptable               Good         Acceptable      Acceptable  \n",
       "4               Good               Good               Good            Good  "
      ]
     },
     "execution_count": 22,
     "metadata": {},
     "output_type": "execute_result"
    }
   ],
   "source": [
    "shin_exp.head(5)"
   ]
  },
  {
   "attachments": {},
   "cell_type": "markdown",
   "metadata": {},
   "source": [
    "Check the Shape and Informations (about possible missing Values in the Data Set)"
   ]
  },
  {
   "cell_type": "code",
   "execution_count": 23,
   "metadata": {},
   "outputs": [
    {
     "data": {
      "text/plain": [
       "(94379, 17)"
      ]
     },
     "execution_count": 23,
     "metadata": {},
     "output_type": "execute_result"
    }
   ],
   "source": [
    "shin_exp.shape  # first one N° of Rows and the second one N° of Columns"
   ]
  },
  {
   "cell_type": "code",
   "execution_count": 24,
   "metadata": {},
   "outputs": [
    {
     "name": "stdout",
     "output_type": "stream",
     "text": [
      "<class 'pandas.core.frame.DataFrame'>\n",
      "RangeIndex: 94379 entries, 0 to 94378\n",
      "Data columns (total 17 columns):\n",
      " #   Column                   Non-Null Count  Dtype \n",
      "---  ------                   --------------  ----- \n",
      " 0   ID                       94379 non-null  int64 \n",
      " 1   Overall_Experience       94379 non-null  int64 \n",
      " 2   Seat_Comfort             94318 non-null  object\n",
      " 3   Seat_Class               94379 non-null  object\n",
      " 4   Arrival_Time_Convenient  85449 non-null  object\n",
      " 5   Catering                 85638 non-null  object\n",
      " 6   Platform_Location        94349 non-null  object\n",
      " 7   Onboard_Wifi_Service     94349 non-null  object\n",
      " 8   Onboard_Entertainment    94361 non-null  object\n",
      " 9   Online_Support           94288 non-null  object\n",
      " 10  Ease_of_Online_Booking   94306 non-null  object\n",
      " 11  Onboard_Service          86778 non-null  object\n",
      " 12  Legroom                  94289 non-null  object\n",
      " 13  Baggage_Handling         94237 non-null  object\n",
      " 14  CheckIn_Service          94302 non-null  object\n",
      " 15  Cleanliness              94373 non-null  object\n",
      " 16  Online_Boarding          94373 non-null  object\n",
      "dtypes: int64(2), object(15)\n",
      "memory usage: 12.2+ MB\n"
     ]
    }
   ],
   "source": [
    "shin_exp.info()"
   ]
  },
  {
   "attachments": {},
   "cell_type": "markdown",
   "metadata": {},
   "source": [
    "#### All the Columns except for ID and Overall_Experience (which is our Target) HAVE Missing Values\n",
    "#### All the Values are string object that must be modified to numeric one with either one-hot encoding"
   ]
  },
  {
   "cell_type": "code",
   "execution_count": 25,
   "metadata": {},
   "outputs": [
    {
     "data": {
      "text/plain": [
       "0"
      ]
     },
     "execution_count": 25,
     "metadata": {},
     "output_type": "execute_result"
    }
   ],
   "source": [
    "# Let's check for duplicate values in the data\n",
    "shin_exp.duplicated().sum()"
   ]
  },
  {
   "cell_type": "code",
   "execution_count": 26,
   "metadata": {},
   "outputs": [
    {
     "data": {
      "text/plain": [
       "ID                         0.00\n",
       "Overall_Experience         0.00\n",
       "Seat_Comfort               0.06\n",
       "Seat_Class                 0.00\n",
       "Arrival_Time_Convenient    9.46\n",
       "Catering                   9.26\n",
       "Platform_Location          0.03\n",
       "Onboard_Wifi_Service       0.03\n",
       "Onboard_Entertainment      0.02\n",
       "Online_Support             0.10\n",
       "Ease_of_Online_Booking     0.08\n",
       "Onboard_Service            8.05\n",
       "Legroom                    0.10\n",
       "Baggage_Handling           0.15\n",
       "CheckIn_Service            0.08\n",
       "Cleanliness                0.01\n",
       "Online_Boarding            0.01\n",
       "dtype: float64"
      ]
     },
     "execution_count": 26,
     "metadata": {},
     "output_type": "execute_result"
    }
   ],
   "source": [
    "# Let's check for missing values in the data\n",
    "round(shin_exp.isnull().sum() / shin_exp.isnull().count() * 100, 2)"
   ]
  },
  {
   "cell_type": "code",
   "execution_count": 30,
   "metadata": {},
   "outputs": [
    {
     "data": {
      "text/plain": [
       "ID                            0\n",
       "Overall_Experience            0\n",
       "Seat_Comfort                 61\n",
       "Seat_Class                    0\n",
       "Arrival_Time_Convenient    8930\n",
       "Catering                   8741\n",
       "Platform_Location            30\n",
       "Onboard_Wifi_Service         30\n",
       "Onboard_Entertainment        18\n",
       "Online_Support               91\n",
       "Ease_of_Online_Booking       73\n",
       "Onboard_Service            7601\n",
       "Legroom                      90\n",
       "Baggage_Handling            142\n",
       "CheckIn_Service              77\n",
       "Cleanliness                   6\n",
       "Online_Boarding               6\n",
       "dtype: int64"
      ]
     },
     "execution_count": 30,
     "metadata": {},
     "output_type": "execute_result"
    }
   ],
   "source": [
    "shin_exp.isna().sum()\n"
   ]
  },
  {
   "attachments": {},
   "cell_type": "markdown",
   "metadata": {},
   "source": [
    "Every Feature has missing values. The features with moost missing values are:\n",
    "\n",
    "Arrival_Time_Convenient, Catering, Onboard_Service with almost 10% of data missing\n",
    "\n",
    "All the other have around less than 0.1% of missing values --> Hence they can be treated last"
   ]
  },
  {
   "cell_type": "code",
   "execution_count": 27,
   "metadata": {},
   "outputs": [
    {
     "name": "stdout",
     "output_type": "stream",
     "text": [
      "Unique values in Seat_Comfort are :\n",
      "Acceptable           21158\n",
      "Needs Improvement    20946\n",
      "Good                 20595\n",
      "Poor                 15185\n",
      "Excellent            12971\n",
      "Extremely Poor        3463\n",
      "Name: Seat_Comfort, dtype: int64\n",
      "**************************************************\n",
      "Unique values in Seat_Class are :\n",
      "Green Car    47435\n",
      "Ordinary     46944\n",
      "Name: Seat_Class, dtype: int64\n",
      "**************************************************\n",
      "Unique values in Arrival_Time_Convenient are :\n",
      "Good                 19574\n",
      "Excellent            17684\n",
      "Acceptable           15177\n",
      "Needs Improvement    14990\n",
      "Poor                 13692\n",
      "Extremely Poor        4332\n",
      "Name: Arrival_Time_Convenient, dtype: int64\n",
      "**************************************************\n",
      "Unique values in Catering are :\n",
      "Acceptable           18468\n",
      "Needs Improvement    17978\n",
      "Good                 17969\n",
      "Poor                 13858\n",
      "Excellent            13455\n",
      "Extremely Poor        3910\n",
      "Name: Catering, dtype: int64\n",
      "**************************************************\n",
      "Unique values in Platform_Location are :\n",
      "Manageable           24173\n",
      "Convenient           21912\n",
      "Needs Improvement    17832\n",
      "Inconvenient         16449\n",
      "Very Convenient      13981\n",
      "Very Inconvenient        2\n",
      "Name: Platform_Location, dtype: int64\n",
      "**************************************************\n",
      "Unique values in Onboard_Wifi_Service are :\n",
      "Good                 22835\n",
      "Excellent            20968\n",
      "Acceptable           20118\n",
      "Needs Improvement    19596\n",
      "Poor                 10741\n",
      "Extremely Poor          91\n",
      "Name: Onboard_Wifi_Service, dtype: int64\n",
      "**************************************************\n",
      "Unique values in Onboard_Entertainment are :\n",
      "Good                 30446\n",
      "Excellent            21644\n",
      "Acceptable           17560\n",
      "Needs Improvement    13926\n",
      "Poor                  8641\n",
      "Extremely Poor        2144\n",
      "Name: Onboard_Entertainment, dtype: int64\n",
      "**************************************************\n",
      "Unique values in Online_Support are :\n",
      "Good                 30016\n",
      "Excellent            25894\n",
      "Acceptable           15702\n",
      "Needs Improvement    12508\n",
      "Poor                 10167\n",
      "Extremely Poor           1\n",
      "Name: Online_Support, dtype: int64\n",
      "**************************************************\n",
      "Unique values in Ease_of_Online_Booking are :\n",
      "Good                 28909\n",
      "Excellent            24744\n",
      "Acceptable           16390\n",
      "Needs Improvement    14479\n",
      "Poor                  9768\n",
      "Extremely Poor          16\n",
      "Name: Ease_of_Online_Booking, dtype: int64\n",
      "**************************************************\n",
      "Unique values in Onboard_Service are :\n",
      "Good                 27265\n",
      "Excellent            21272\n",
      "Acceptable           18071\n",
      "Needs Improvement    11390\n",
      "Poor                  8776\n",
      "Extremely Poor           4\n",
      "Name: Onboard_Service, dtype: int64\n",
      "**************************************************\n",
      "Unique values in Legroom are :\n",
      "Good                 28870\n",
      "Excellent            24832\n",
      "Acceptable           16384\n",
      "Needs Improvement    15753\n",
      "Poor                  8110\n",
      "Extremely Poor         340\n",
      "Name: Legroom, dtype: int64\n",
      "**************************************************\n",
      "Unique values in Baggage_Handling are :\n",
      "Good                 34944\n",
      "Excellent            26003\n",
      "Acceptable           17767\n",
      "Needs Improvement     9759\n",
      "Poor                  5764\n",
      "Name: Baggage_Handling, dtype: int64\n",
      "**************************************************\n",
      "Unique values in CheckIn_Service are :\n",
      "Good                 26502\n",
      "Acceptable           25803\n",
      "Excellent            19641\n",
      "Needs Improvement    11218\n",
      "Poor                 11137\n",
      "Extremely Poor           1\n",
      "Name: CheckIn_Service, dtype: int64\n",
      "**************************************************\n",
      "Unique values in Cleanliness are :\n",
      "Good                 35427\n",
      "Excellent            26053\n",
      "Acceptable           17449\n",
      "Needs Improvement     9806\n",
      "Poor                  5633\n",
      "Extremely Poor           5\n",
      "Name: Cleanliness, dtype: int64\n",
      "**************************************************\n",
      "Unique values in Online_Boarding are :\n",
      "Good                 25533\n",
      "Acceptable           22475\n",
      "Excellent            21742\n",
      "Needs Improvement    13451\n",
      "Poor                 11160\n",
      "Extremely Poor          12\n",
      "Name: Online_Boarding, dtype: int64\n",
      "**************************************************\n"
     ]
    }
   ],
   "source": [
    "# Printing the % sub categories of each category\n",
    "\n",
    "for i in shin_exp.describe(include=[\"object\"]).columns:\n",
    "    print(\"Unique values in\", i, \"are :\")\n",
    "    print(shin_exp[i].value_counts())\n",
    "    print(\"*\" * 50)"
   ]
  },
  {
   "cell_type": "markdown",
   "metadata": {},
   "source": [
    "## Exploratory Data Analysis --> Later On"
   ]
  },
  {
   "cell_type": "code",
   "execution_count": null,
   "metadata": {},
   "outputs": [],
   "source": []
  },
  {
   "attachments": {},
   "cell_type": "markdown",
   "metadata": {},
   "source": [
    "# Data Preprocessing\n"
   ]
  },
  {
   "cell_type": "code",
   "execution_count": 28,
   "metadata": {},
   "outputs": [
    {
     "data": {
      "text/html": [
       "<div>\n",
       "<style scoped>\n",
       "    .dataframe tbody tr th:only-of-type {\n",
       "        vertical-align: middle;\n",
       "    }\n",
       "\n",
       "    .dataframe tbody tr th {\n",
       "        vertical-align: top;\n",
       "    }\n",
       "\n",
       "    .dataframe thead th {\n",
       "        text-align: right;\n",
       "    }\n",
       "</style>\n",
       "<table border=\"1\" class=\"dataframe\">\n",
       "  <thead>\n",
       "    <tr style=\"text-align: right;\">\n",
       "      <th></th>\n",
       "      <th>Overall_Experience</th>\n",
       "      <th>Seat_Comfort</th>\n",
       "      <th>Seat_Class</th>\n",
       "      <th>Arrival_Time_Convenient</th>\n",
       "      <th>Catering</th>\n",
       "      <th>Platform_Location</th>\n",
       "      <th>Onboard_Wifi_Service</th>\n",
       "      <th>Onboard_Entertainment</th>\n",
       "      <th>Online_Support</th>\n",
       "      <th>Ease_of_Online_Booking</th>\n",
       "      <th>Onboard_Service</th>\n",
       "      <th>Legroom</th>\n",
       "      <th>Baggage_Handling</th>\n",
       "      <th>CheckIn_Service</th>\n",
       "      <th>Cleanliness</th>\n",
       "      <th>Online_Boarding</th>\n",
       "    </tr>\n",
       "  </thead>\n",
       "  <tbody>\n",
       "    <tr>\n",
       "      <th>0</th>\n",
       "      <td>0</td>\n",
       "      <td>Needs Improvement</td>\n",
       "      <td>Green Car</td>\n",
       "      <td>Excellent</td>\n",
       "      <td>Excellent</td>\n",
       "      <td>Very Convenient</td>\n",
       "      <td>Good</td>\n",
       "      <td>Needs Improvement</td>\n",
       "      <td>Acceptable</td>\n",
       "      <td>Needs Improvement</td>\n",
       "      <td>Needs Improvement</td>\n",
       "      <td>Acceptable</td>\n",
       "      <td>Needs Improvement</td>\n",
       "      <td>Good</td>\n",
       "      <td>Needs Improvement</td>\n",
       "      <td>Poor</td>\n",
       "    </tr>\n",
       "    <tr>\n",
       "      <th>1</th>\n",
       "      <td>0</td>\n",
       "      <td>Poor</td>\n",
       "      <td>Ordinary</td>\n",
       "      <td>Excellent</td>\n",
       "      <td>Poor</td>\n",
       "      <td>Needs Improvement</td>\n",
       "      <td>Good</td>\n",
       "      <td>Poor</td>\n",
       "      <td>Good</td>\n",
       "      <td>Good</td>\n",
       "      <td>Excellent</td>\n",
       "      <td>Needs Improvement</td>\n",
       "      <td>Poor</td>\n",
       "      <td>Needs Improvement</td>\n",
       "      <td>Good</td>\n",
       "      <td>Good</td>\n",
       "    </tr>\n",
       "    <tr>\n",
       "      <th>2</th>\n",
       "      <td>1</td>\n",
       "      <td>Needs Improvement</td>\n",
       "      <td>Green Car</td>\n",
       "      <td>Needs Improvement</td>\n",
       "      <td>Needs Improvement</td>\n",
       "      <td>Needs Improvement</td>\n",
       "      <td>Needs Improvement</td>\n",
       "      <td>Good</td>\n",
       "      <td>Excellent</td>\n",
       "      <td>Excellent</td>\n",
       "      <td>Excellent</td>\n",
       "      <td>Excellent</td>\n",
       "      <td>Excellent</td>\n",
       "      <td>Good</td>\n",
       "      <td>Excellent</td>\n",
       "      <td>Excellent</td>\n",
       "    </tr>\n",
       "    <tr>\n",
       "      <th>3</th>\n",
       "      <td>0</td>\n",
       "      <td>Acceptable</td>\n",
       "      <td>Ordinary</td>\n",
       "      <td>Needs Improvement</td>\n",
       "      <td>NaN</td>\n",
       "      <td>Needs Improvement</td>\n",
       "      <td>Acceptable</td>\n",
       "      <td>Needs Improvement</td>\n",
       "      <td>Acceptable</td>\n",
       "      <td>Acceptable</td>\n",
       "      <td>Acceptable</td>\n",
       "      <td>Acceptable</td>\n",
       "      <td>Acceptable</td>\n",
       "      <td>Good</td>\n",
       "      <td>Acceptable</td>\n",
       "      <td>Acceptable</td>\n",
       "    </tr>\n",
       "    <tr>\n",
       "      <th>4</th>\n",
       "      <td>1</td>\n",
       "      <td>Acceptable</td>\n",
       "      <td>Ordinary</td>\n",
       "      <td>Acceptable</td>\n",
       "      <td>Acceptable</td>\n",
       "      <td>Manageable</td>\n",
       "      <td>Needs Improvement</td>\n",
       "      <td>Good</td>\n",
       "      <td>Excellent</td>\n",
       "      <td>Good</td>\n",
       "      <td>Good</td>\n",
       "      <td>Good</td>\n",
       "      <td>Good</td>\n",
       "      <td>Good</td>\n",
       "      <td>Good</td>\n",
       "      <td>Good</td>\n",
       "    </tr>\n",
       "  </tbody>\n",
       "</table>\n",
       "</div>"
      ],
      "text/plain": [
       "   Overall_Experience       Seat_Comfort Seat_Class Arrival_Time_Convenient  \\\n",
       "0                   0  Needs Improvement  Green Car               Excellent   \n",
       "1                   0               Poor   Ordinary               Excellent   \n",
       "2                   1  Needs Improvement  Green Car       Needs Improvement   \n",
       "3                   0         Acceptable   Ordinary       Needs Improvement   \n",
       "4                   1         Acceptable   Ordinary              Acceptable   \n",
       "\n",
       "            Catering  Platform_Location Onboard_Wifi_Service  \\\n",
       "0          Excellent    Very Convenient                 Good   \n",
       "1               Poor  Needs Improvement                 Good   \n",
       "2  Needs Improvement  Needs Improvement    Needs Improvement   \n",
       "3                NaN  Needs Improvement           Acceptable   \n",
       "4         Acceptable         Manageable    Needs Improvement   \n",
       "\n",
       "  Onboard_Entertainment Online_Support Ease_of_Online_Booking  \\\n",
       "0     Needs Improvement     Acceptable      Needs Improvement   \n",
       "1                  Poor           Good                   Good   \n",
       "2                  Good      Excellent              Excellent   \n",
       "3     Needs Improvement     Acceptable             Acceptable   \n",
       "4                  Good      Excellent                   Good   \n",
       "\n",
       "     Onboard_Service            Legroom   Baggage_Handling    CheckIn_Service  \\\n",
       "0  Needs Improvement         Acceptable  Needs Improvement               Good   \n",
       "1          Excellent  Needs Improvement               Poor  Needs Improvement   \n",
       "2          Excellent          Excellent          Excellent               Good   \n",
       "3         Acceptable         Acceptable         Acceptable               Good   \n",
       "4               Good               Good               Good               Good   \n",
       "\n",
       "         Cleanliness Online_Boarding  \n",
       "0  Needs Improvement            Poor  \n",
       "1               Good            Good  \n",
       "2          Excellent       Excellent  \n",
       "3         Acceptable      Acceptable  \n",
       "4               Good            Good  "
      ]
     },
     "execution_count": 28,
     "metadata": {},
     "output_type": "execute_result"
    }
   ],
   "source": [
    "# ID consists of uniques ID for clients and hence will not add value to the modeling\n",
    "\n",
    "\n",
    "shin_exp_v2 = shin_exp.copy()\n",
    "shin_exp_v2.drop([\"ID\"], axis=1, inplace=True)\n",
    "\n",
    "shin_exp_v2.head()"
   ]
  },
  {
   "attachments": {},
   "cell_type": "markdown",
   "metadata": {},
   "source": [
    "### Separating the independent variables (X) and the dependent variable (Y)\n"
   ]
  },
  {
   "cell_type": "code",
   "execution_count": 32,
   "metadata": {},
   "outputs": [
    {
     "data": {
      "text/plain": [
       "(94379, 15)"
      ]
     },
     "execution_count": 32,
     "metadata": {},
     "output_type": "execute_result"
    }
   ],
   "source": [
    "X = shin_exp_v2.drop([\"Overall_Experience\"], axis=1) # keep it as a Matrix\n",
    "y = shin_exp_v2[\"Overall_Experience\"]  # keep it as an array\n",
    "\n",
    "X.shape"
   ]
  },
  {
   "attachments": {},
   "cell_type": "markdown",
   "metadata": {},
   "source": [
    "### 14 Categories can be Ordered as 0 to 5 because they go from Extremely poor to Excellent\n",
    "### 1 Category --> Seat_Class has only 2 values uncorrelated"
   ]
  },
  {
   "cell_type": "code",
   "execution_count": 105,
   "metadata": {},
   "outputs": [],
   "source": [
    "def Ordinal_encoding(element_i):\n",
    "    mapping =  {'Extremely Poor': 0, 'Poor': 1, 'Needs Improvement': 2, 'Acceptable':3, 'Good':4, 'Excellent':5,\n",
    "                'Very Inconvenient': 0, 'Inconvenient': 1, 'Needs Improvement': 2, 'Manageable':3, 'Convenient':4, 'Very Convenient':5,\n",
    "                'Green Car':1, 'Ordinary':0}\n",
    "\n",
    "    #mapping2 =  {'Very Inconvenient': 0, 'Inconvenient': 1, 'Needs Improvement': 2, 'Manageable':3, 'Convenient':4, 'Very Convenient':5}\n",
    "\n",
    "\n",
    "    try:\n",
    "        data = mapping[element_i]\n",
    "        return data\n",
    "    except:\n",
    "        return np.NaN"
   ]
  },
  {
   "cell_type": "code",
   "execution_count": 107,
   "metadata": {},
   "outputs": [],
   "source": [
    "X_v2 = X.copy()"
   ]
  },
  {
   "cell_type": "code",
   "execution_count": 108,
   "metadata": {},
   "outputs": [
    {
     "data": {
      "text/html": [
       "<div>\n",
       "<style scoped>\n",
       "    .dataframe tbody tr th:only-of-type {\n",
       "        vertical-align: middle;\n",
       "    }\n",
       "\n",
       "    .dataframe tbody tr th {\n",
       "        vertical-align: top;\n",
       "    }\n",
       "\n",
       "    .dataframe thead th {\n",
       "        text-align: right;\n",
       "    }\n",
       "</style>\n",
       "<table border=\"1\" class=\"dataframe\">\n",
       "  <thead>\n",
       "    <tr style=\"text-align: right;\">\n",
       "      <th></th>\n",
       "      <th>Seat_Comfort</th>\n",
       "      <th>Seat_Class</th>\n",
       "      <th>Arrival_Time_Convenient</th>\n",
       "      <th>Catering</th>\n",
       "      <th>Platform_Location</th>\n",
       "      <th>Onboard_Wifi_Service</th>\n",
       "      <th>Onboard_Entertainment</th>\n",
       "      <th>Online_Support</th>\n",
       "      <th>Ease_of_Online_Booking</th>\n",
       "      <th>Onboard_Service</th>\n",
       "      <th>Legroom</th>\n",
       "      <th>Baggage_Handling</th>\n",
       "      <th>CheckIn_Service</th>\n",
       "      <th>Cleanliness</th>\n",
       "      <th>Online_Boarding</th>\n",
       "    </tr>\n",
       "  </thead>\n",
       "  <tbody>\n",
       "    <tr>\n",
       "      <th>0</th>\n",
       "      <td>2.0</td>\n",
       "      <td>1</td>\n",
       "      <td>5.0</td>\n",
       "      <td>5.0</td>\n",
       "      <td>5.0</td>\n",
       "      <td>4.0</td>\n",
       "      <td>2.0</td>\n",
       "      <td>3.0</td>\n",
       "      <td>2.0</td>\n",
       "      <td>2.0</td>\n",
       "      <td>3.0</td>\n",
       "      <td>2.0</td>\n",
       "      <td>4.0</td>\n",
       "      <td>2.0</td>\n",
       "      <td>1.0</td>\n",
       "    </tr>\n",
       "  </tbody>\n",
       "</table>\n",
       "</div>"
      ],
      "text/plain": [
       "   Seat_Comfort  Seat_Class  Arrival_Time_Convenient  Catering  \\\n",
       "0           2.0           1                      5.0       5.0   \n",
       "\n",
       "   Platform_Location  Onboard_Wifi_Service  Onboard_Entertainment  \\\n",
       "0                5.0                   4.0                    2.0   \n",
       "\n",
       "   Online_Support  Ease_of_Online_Booking  Onboard_Service  Legroom  \\\n",
       "0             3.0                     2.0              2.0      3.0   \n",
       "\n",
       "   Baggage_Handling  CheckIn_Service  Cleanliness  Online_Boarding  \n",
       "0               2.0              4.0          2.0              1.0  "
      ]
     },
     "execution_count": 108,
     "metadata": {},
     "output_type": "execute_result"
    }
   ],
   "source": [
    "for column_i in X_v2.columns:\n",
    "    X_v2[column_i] = X_v2[column_i].apply(Ordinal_encoding)\n",
    "\n",
    "X_v2.head(1)"
   ]
  },
  {
   "cell_type": "code",
   "execution_count": 109,
   "metadata": {},
   "outputs": [
    {
     "data": {
      "text/html": [
       "<div>\n",
       "<style scoped>\n",
       "    .dataframe tbody tr th:only-of-type {\n",
       "        vertical-align: middle;\n",
       "    }\n",
       "\n",
       "    .dataframe tbody tr th {\n",
       "        vertical-align: top;\n",
       "    }\n",
       "\n",
       "    .dataframe thead th {\n",
       "        text-align: right;\n",
       "    }\n",
       "</style>\n",
       "<table border=\"1\" class=\"dataframe\">\n",
       "  <thead>\n",
       "    <tr style=\"text-align: right;\">\n",
       "      <th></th>\n",
       "      <th>Seat_Comfort</th>\n",
       "      <th>Seat_Class</th>\n",
       "      <th>Arrival_Time_Convenient</th>\n",
       "      <th>Catering</th>\n",
       "      <th>Platform_Location</th>\n",
       "      <th>Onboard_Wifi_Service</th>\n",
       "      <th>Onboard_Entertainment</th>\n",
       "      <th>Online_Support</th>\n",
       "      <th>Ease_of_Online_Booking</th>\n",
       "      <th>Onboard_Service</th>\n",
       "      <th>Legroom</th>\n",
       "      <th>Baggage_Handling</th>\n",
       "      <th>CheckIn_Service</th>\n",
       "      <th>Cleanliness</th>\n",
       "      <th>Online_Boarding</th>\n",
       "    </tr>\n",
       "  </thead>\n",
       "  <tbody>\n",
       "    <tr>\n",
       "      <th>0</th>\n",
       "      <td>Needs Improvement</td>\n",
       "      <td>Green Car</td>\n",
       "      <td>Excellent</td>\n",
       "      <td>Excellent</td>\n",
       "      <td>Very Convenient</td>\n",
       "      <td>Good</td>\n",
       "      <td>Needs Improvement</td>\n",
       "      <td>Acceptable</td>\n",
       "      <td>Needs Improvement</td>\n",
       "      <td>Needs Improvement</td>\n",
       "      <td>Acceptable</td>\n",
       "      <td>Needs Improvement</td>\n",
       "      <td>Good</td>\n",
       "      <td>Needs Improvement</td>\n",
       "      <td>Poor</td>\n",
       "    </tr>\n",
       "  </tbody>\n",
       "</table>\n",
       "</div>"
      ],
      "text/plain": [
       "        Seat_Comfort Seat_Class Arrival_Time_Convenient   Catering  \\\n",
       "0  Needs Improvement  Green Car               Excellent  Excellent   \n",
       "\n",
       "  Platform_Location Onboard_Wifi_Service Onboard_Entertainment Online_Support  \\\n",
       "0   Very Convenient                 Good     Needs Improvement     Acceptable   \n",
       "\n",
       "  Ease_of_Online_Booking    Onboard_Service     Legroom   Baggage_Handling  \\\n",
       "0      Needs Improvement  Needs Improvement  Acceptable  Needs Improvement   \n",
       "\n",
       "  CheckIn_Service        Cleanliness Online_Boarding  \n",
       "0            Good  Needs Improvement            Poor  "
      ]
     },
     "execution_count": 109,
     "metadata": {},
     "output_type": "execute_result"
    }
   ],
   "source": [
    "X.head(1)"
   ]
  },
  {
   "cell_type": "code",
   "execution_count": 110,
   "metadata": {},
   "outputs": [
    {
     "data": {
      "text/plain": [
       "Seat_Comfort               True\n",
       "Seat_Class                 True\n",
       "Arrival_Time_Convenient    True\n",
       "Catering                   True\n",
       "Platform_Location          True\n",
       "Onboard_Wifi_Service       True\n",
       "Onboard_Entertainment      True\n",
       "Online_Support             True\n",
       "Ease_of_Online_Booking     True\n",
       "Onboard_Service            True\n",
       "Legroom                    True\n",
       "Baggage_Handling           True\n",
       "CheckIn_Service            True\n",
       "Cleanliness                True\n",
       "Online_Boarding            True\n",
       "dtype: bool"
      ]
     },
     "execution_count": 110,
     "metadata": {},
     "output_type": "execute_result"
    }
   ],
   "source": [
    "X_v2.isna().sum() == X.isna().sum()\n"
   ]
  },
  {
   "cell_type": "code",
   "execution_count": null,
   "metadata": {},
   "outputs": [],
   "source": []
  },
  {
   "attachments": {},
   "cell_type": "markdown",
   "metadata": {},
   "source": [
    "# HERE START The IMPUTATION"
   ]
  },
  {
   "cell_type": "code",
   "execution_count": 112,
   "metadata": {},
   "outputs": [
    {
     "data": {
      "text/plain": [
       "Seat_Comfort                 61\n",
       "Seat_Class                    0\n",
       "Arrival_Time_Convenient    8930\n",
       "Catering                   8741\n",
       "Platform_Location            30\n",
       "Onboard_Wifi_Service         30\n",
       "Onboard_Entertainment        18\n",
       "Online_Support               91\n",
       "Ease_of_Online_Booking       73\n",
       "Onboard_Service            7601\n",
       "Legroom                      90\n",
       "Baggage_Handling            142\n",
       "CheckIn_Service              77\n",
       "Cleanliness                   6\n",
       "Online_Boarding               6\n",
       "dtype: int64"
      ]
     },
     "execution_count": 112,
     "metadata": {},
     "output_type": "execute_result"
    }
   ],
   "source": [
    "X_v2.isna().sum()"
   ]
  },
  {
   "attachments": {},
   "cell_type": "markdown",
   "metadata": {},
   "source": [
    "# IMPUTATION Option 1 --> AFTER THE MEAN WE SHOULD TRY IN THE NEXT ITERATION KNN OR LINEAR REGRESSION (But for now this is good)"
   ]
  },
  {
   "cell_type": "code",
   "execution_count": 116,
   "metadata": {},
   "outputs": [
    {
     "name": "stdout",
     "output_type": "stream",
     "text": [
      "Seat_Comfort               0\n",
      "Seat_Class                 0\n",
      "Arrival_Time_Convenient    0\n",
      "Catering                   0\n",
      "Platform_Location          0\n",
      "Onboard_Wifi_Service       0\n",
      "Onboard_Entertainment      0\n",
      "Online_Support             0\n",
      "Ease_of_Online_Booking     0\n",
      "Onboard_Service            0\n",
      "Legroom                    0\n",
      "Baggage_Handling           0\n",
      "CheckIn_Service            0\n",
      "Cleanliness                0\n",
      "Online_Boarding            0\n",
      "dtype: int64\n",
      "------------------------------\n"
     ]
    }
   ],
   "source": [
    "# Columns to impute\n",
    "reqd_col_for_impute = ['Seat_Comfort',  'Arrival_Time_Convenient', 'Catering','Platform_Location', 'Onboard_Wifi_Service', 'Onboard_Entertainment',\n",
    "       'Online_Support', 'Ease_of_Online_Booking', 'Onboard_Service',\n",
    "       'Legroom', 'Baggage_Handling', 'CheckIn_Service', 'Cleanliness',\n",
    "       'Online_Boarding']\n",
    "\n",
    "# Simple Imputer with Mode\n",
    "imputer = SimpleImputer(strategy=\"most_frequent\")\n",
    "\n",
    "# Fit and transform the train data\n",
    "X_v2[reqd_col_for_impute] = imputer.fit_transform(X_v2[reqd_col_for_impute])\n",
    "\n",
    "\n",
    "# Checking that no column has missing values in train or test sets\n",
    "print(X_v2.isna().sum())\n",
    "print(\"-\" * 30)\n",
    "#print(X_test.isna().sum())"
   ]
  },
  {
   "cell_type": "code",
   "execution_count": null,
   "metadata": {},
   "outputs": [],
   "source": []
  },
  {
   "cell_type": "code",
   "execution_count": null,
   "metadata": {},
   "outputs": [],
   "source": []
  },
  {
   "attachments": {},
   "cell_type": "markdown",
   "metadata": {},
   "source": [
    "# Building the Model  ---> LATER I WILL ADD THE PIPELINES --> NOW IT IS JUST A START\n",
    "\n",
    "### Splitting the Data"
   ]
  },
  {
   "cell_type": "code",
   "execution_count": 128,
   "metadata": {},
   "outputs": [],
   "source": [
    "X_train,X_test,y_train,y_test=train_test_split(X_v2 , y, test_size=0.3, random_state=5, stratify=y)"
   ]
  },
  {
   "cell_type": "code",
   "execution_count": 129,
   "metadata": {},
   "outputs": [
    {
     "data": {
      "text/plain": [
       "LogisticRegression()"
      ]
     },
     "execution_count": 129,
     "metadata": {},
     "output_type": "execute_result"
    }
   ],
   "source": [
    "# Fitting logistic regression model\n",
    "\n",
    "lg = LogisticRegression()\n",
    "lg.fit(X_train,y_train)"
   ]
  },
  {
   "cell_type": "code",
   "execution_count": 130,
   "metadata": {},
   "outputs": [],
   "source": [
    "# Creating metric function \n",
    "\n",
    "def metrics_score(actual, predicted):\n",
    "    print(classification_report(actual, predicted))\n",
    "    cm = confusion_matrix(actual, predicted)\n",
    "    plt.figure(figsize=(8,5))\n",
    "    sns.heatmap(cm, annot=True,  fmt='.2f', xticklabels=['Not Attrite', 'Attrite'], yticklabels=['Not Attrite', 'Attrite'])\n",
    "    plt.ylabel('Actual')\n",
    "    plt.xlabel('Predicted')\n",
    "    plt.show()"
   ]
  },
  {
   "cell_type": "code",
   "execution_count": 131,
   "metadata": {},
   "outputs": [
    {
     "name": "stdout",
     "output_type": "stream",
     "text": [
      "              precision    recall  f1-score   support\n",
      "\n",
      "           0       0.79      0.78      0.78     29950\n",
      "           1       0.82      0.83      0.82     36115\n",
      "\n",
      "    accuracy                           0.81     66065\n",
      "   macro avg       0.81      0.80      0.80     66065\n",
      "weighted avg       0.81      0.81      0.81     66065\n",
      "\n"
     ]
    },
    {
     "data": {
      "image/png": "[encoded data removed]",
      "text/plain": [
       "<Figure size 800x500 with 2 Axes>"
      ]
     },
     "metadata": {},
     "output_type": "display_data"
    }
   ],
   "source": [
    "y_pred_train = lg.predict(X_train)\n",
    "\n",
    "metrics_score(y_train, y_pred_train)"
   ]
  },
  {
   "cell_type": "code",
   "execution_count": null,
   "metadata": {},
   "outputs": [],
   "source": []
  },
  {
   "attachments": {},
   "cell_type": "markdown",
   "metadata": {},
   "source": [
    "# Here Show the Power of a Pipeline"
   ]
  },
  {
   "cell_type": "code",
   "execution_count": 132,
   "metadata": {},
   "outputs": [],
   "source": [
    "from sklearn.compose import ColumnTransformer\n",
    "from sklearn.pipeline import Pipeline"
   ]
  },
  {
   "cell_type": "code",
   "execution_count": 133,
   "metadata": {},
   "outputs": [],
   "source": [
    "X_train,X_test,y_train,y_test=train_test_split(X_v2 , y, test_size=0.3, random_state=5, stratify=y)"
   ]
  },
  {
   "cell_type": "code",
   "execution_count": 134,
   "metadata": {},
   "outputs": [
    {
     "name": "stdout",
     "output_type": "stream",
     "text": [
      "              precision    recall  f1-score   support\n",
      "\n",
      "           0       0.79      0.78      0.78     29950\n",
      "           1       0.82      0.83      0.82     36115\n",
      "\n",
      "    accuracy                           0.81     66065\n",
      "   macro avg       0.81      0.80      0.80     66065\n",
      "weighted avg       0.81      0.81      0.81     66065\n",
      "\n"
     ]
    },
    {
     "data": {
      "image/png": "[encoded data removed]",
      "text/plain": [
       "<Figure size 800x500 with 2 Axes>"
      ]
     },
     "metadata": {},
     "output_type": "display_data"
    }
   ],
   "source": [
    "numeric_features = X_v2.columns\n",
    "\n",
    "numeric_transformer = Pipeline(\n",
    "    steps = [('imputer', SimpleImputer(strategy='median') ), ('scaler', MinMaxScaler() )]\n",
    ")\n",
    "\n",
    "# Here the pre-processor step\n",
    "preprocessor = ColumnTransformer(\n",
    "    transformers=[\n",
    "        (\"numeric\", numeric_transformer, numeric_features )\n",
    "    ]\n",
    ")\n",
    "\n",
    "# here the Pipeline\n",
    "pipe_lg = Pipeline(\n",
    "    steps = [('preprocessor', preprocessor), ('regressor', LogisticRegression() ) ]\n",
    ")\n",
    "\n",
    "pipe_lg.fit(X_train, y_train)\n",
    "\n",
    "y_pred_train = pipe_lg.predict(X_train)\n",
    "\n",
    "metrics_score(y_train, y_pred_train)\n"
   ]
  },
  {
   "cell_type": "code",
   "execution_count": null,
   "metadata": {},
   "outputs": [],
   "source": []
  }
 ],
 "metadata": {
  "kernelspec": {
   "display_name": "Python 3 (ipykernel)",
   "language": "python",
   "name": "python3"
  },
  "language_info": {
   "codemirror_mode": {
    "name": "ipython",
    "version": 3
   },
   "file_extension": ".py",
   "mimetype": "text/x-python",
   "name": "python",
   "nbconvert_exporter": "python",
   "pygments_lexer": "ipython3",
   "version": "3.9.13"
  }
 },
 "nbformat": 4,
 "nbformat_minor": 2
}
