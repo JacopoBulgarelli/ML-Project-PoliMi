{
 "cells": [
  {
   "cell_type": "code",
   "execution_count": 1,
   "id": "e5c51b07",
   "metadata": {},
   "outputs": [],
   "source": [
    "import pandas as pd\n",
    "import numpy as np\n",
    "import sklearn\n",
    "from matplotlib import pyplot as plt"
   ]
  },
  {
   "cell_type": "code",
   "execution_count": 2,
   "id": "acb9b4a3",
   "metadata": {},
   "outputs": [],
   "source": [
    "pd.options.display.max_columns = None"
   ]
  },
  {
   "cell_type": "code",
   "execution_count": 4,
   "id": "18fcf7bd",
   "metadata": {},
   "outputs": [],
   "source": [
    "df= pd.read_csv('../data/model.csv')\n",
    "df.columns = [col.strip() for col in df.columns]"
   ]
  },
  {
   "cell_type": "code",
   "execution_count": 5,
   "id": "a1da6ec0",
   "metadata": {},
   "outputs": [],
   "source": [
    "usable = []\n",
    "for col in df.columns:\n",
    "    if (df.dtypes[col] != object) & (col!='shares'):\n",
    "        usable = usable+[col]\n",
    "#keep only the number ones"
   ]
  },
  {
   "cell_type": "code",
   "execution_count": 6,
   "id": "7719b189",
   "metadata": {},
   "outputs": [],
   "source": [
    "usable = [col for col in df.columns  if not (col.startswith('kw') or col.startswith('self') or col=='shares')]\n",
    "#remove shitty columns"
   ]
  },
  {
   "cell_type": "code",
   "execution_count": 7,
   "id": "a2fc34bc",
   "metadata": {},
   "outputs": [],
   "source": [
    "items = pd.DataFrame()\n",
    "for col in usable:\n",
    "    try:\n",
    "        tmp = pd.qcut(df[col],3,labels = [col+'_'+str(i) for i in  range(3)])\n",
    "    except:\n",
    "        pass\n",
    "    items = pd.concat([items,pd.get_dummies(tmp)],axis=1)"
   ]
  },
  {
   "cell_type": "code",
   "execution_count": 8,
   "id": "e6f679b0",
   "metadata": {},
   "outputs": [],
   "source": [
    "tmp = pd.qcut(df['shares'],5,labels = ['shares'+'_'+str(i) for i in  range(5)])\n",
    "items = pd.concat([items,pd.get_dummies(tmp)],axis=1)\n",
    "# cut the target variable into 5 chunks"
   ]
  },
  {
   "cell_type": "code",
   "execution_count": 9,
   "id": "3fbc08d5",
   "metadata": {},
   "outputs": [],
   "source": [
    "from mlxtend.frequent_patterns import apriori,association_rules"
   ]
  },
  {
   "cell_type": "code",
   "execution_count": 10,
   "id": "da431db1",
   "metadata": {},
   "outputs": [],
   "source": [
    "share_cols = ['shares_0', 'shares_1','shares_2','shares_3','shares_4']\n",
    "fucku = []\n",
    "\n",
    "#run the apriorit algorithm over each chunk of the target variable\n",
    "for cl in share_cols:\n",
    "    fucku.append(apriori(\n",
    "        items.loc[items[cl],list(set(items.columns) - set(share_cols))], \n",
    "        min_support=0.05, \n",
    "        use_colnames=True,\n",
    "        low_memory=True\n",
    "    ))"
   ]
  },
  {
   "cell_type": "code",
   "execution_count": 45,
   "id": "2d7693ce",
   "metadata": {},
   "outputs": [
    {
     "data": {
      "text/html": [
       "<div>\n",
       "<style scoped>\n",
       "    .dataframe tbody tr th:only-of-type {\n",
       "        vertical-align: middle;\n",
       "    }\n",
       "\n",
       "    .dataframe tbody tr th {\n",
       "        vertical-align: top;\n",
       "    }\n",
       "\n",
       "    .dataframe thead th {\n",
       "        text-align: right;\n",
       "    }\n",
       "</style>\n",
       "<table border=\"1\" class=\"dataframe\">\n",
       "  <thead>\n",
       "    <tr style=\"text-align: right;\">\n",
       "      <th></th>\n",
       "      <th>support</th>\n",
       "      <th>itemsets</th>\n",
       "    </tr>\n",
       "  </thead>\n",
       "  <tbody>\n",
       "    <tr>\n",
       "      <th>0</th>\n",
       "      <td>0.423674</td>\n",
       "      <td>(topic_packaging_2)</td>\n",
       "    </tr>\n",
       "    <tr>\n",
       "      <th>1</th>\n",
       "      <td>0.338868</td>\n",
       "      <td>(topic_description_0)</td>\n",
       "    </tr>\n",
       "    <tr>\n",
       "      <th>2</th>\n",
       "      <td>0.284771</td>\n",
       "      <td>(num_hrefs_1)</td>\n",
       "    </tr>\n",
       "    <tr>\n",
       "      <th>3</th>\n",
       "      <td>0.367077</td>\n",
       "      <td>(n_tokens_title_1)</td>\n",
       "    </tr>\n",
       "    <tr>\n",
       "      <th>4</th>\n",
       "      <td>0.394751</td>\n",
       "      <td>(global_sentiment_polarity_0)</td>\n",
       "    </tr>\n",
       "    <tr>\n",
       "      <th>...</th>\n",
       "      <td>...</td>\n",
       "      <td>...</td>\n",
       "    </tr>\n",
       "    <tr>\n",
       "      <th>503917</th>\n",
       "      <td>0.050705</td>\n",
       "      <td>(num_self_hrefs_0, title_sentiment_polarity_0,...</td>\n",
       "    </tr>\n",
       "    <tr>\n",
       "      <th>503918</th>\n",
       "      <td>0.059275</td>\n",
       "      <td>(title_sentiment_polarity_0, n_non_stop_unique...</td>\n",
       "    </tr>\n",
       "    <tr>\n",
       "      <th>503919</th>\n",
       "      <td>0.050348</td>\n",
       "      <td>(title_sentiment_polarity_0, topic_packaging_1...</td>\n",
       "    </tr>\n",
       "    <tr>\n",
       "      <th>503920</th>\n",
       "      <td>0.050170</td>\n",
       "      <td>(rate_positive_words_0, topic_description_1, g...</td>\n",
       "    </tr>\n",
       "    <tr>\n",
       "      <th>503921</th>\n",
       "      <td>0.056240</td>\n",
       "      <td>(n_unique_tokens_2, title_sentiment_polarity_0...</td>\n",
       "    </tr>\n",
       "  </tbody>\n",
       "</table>\n",
       "<p>503922 rows × 2 columns</p>\n",
       "</div>"
      ],
      "text/plain": [
       "         support                                           itemsets\n",
       "0       0.423674                                (topic_packaging_2)\n",
       "1       0.338868                              (topic_description_0)\n",
       "2       0.284771                                      (num_hrefs_1)\n",
       "3       0.367077                                 (n_tokens_title_1)\n",
       "4       0.394751                      (global_sentiment_polarity_0)\n",
       "...          ...                                                ...\n",
       "503917  0.050705  (num_self_hrefs_0, title_sentiment_polarity_0,...\n",
       "503918  0.059275  (title_sentiment_polarity_0, n_non_stop_unique...\n",
       "503919  0.050348  (title_sentiment_polarity_0, topic_packaging_1...\n",
       "503920  0.050170  (rate_positive_words_0, topic_description_1, g...\n",
       "503921  0.056240  (n_unique_tokens_2, title_sentiment_polarity_0...\n",
       "\n",
       "[503922 rows x 2 columns]"
      ]
     },
     "execution_count": 45,
     "metadata": {},
     "output_type": "execute_result"
    }
   ],
   "source": [
    "fucku[0]"
   ]
  },
  {
   "cell_type": "code",
   "execution_count": null,
   "id": "1d36ed45",
   "metadata": {},
   "outputs": [],
   "source": []
  }
 ],
 "metadata": {
  "kernelspec": {
   "display_name": "Python 3 (ipykernel)",
   "language": "python",
   "name": "python3"
  },
  "language_info": {
   "codemirror_mode": {
    "name": "ipython",
    "version": 3
   },
   "file_extension": ".py",
   "mimetype": "text/x-python",
   "name": "python",
   "nbconvert_exporter": "python",
   "pygments_lexer": "ipython3",
   "version": "3.12.1"
  }
 },
 "nbformat": 4,
 "nbformat_minor": 5
}
